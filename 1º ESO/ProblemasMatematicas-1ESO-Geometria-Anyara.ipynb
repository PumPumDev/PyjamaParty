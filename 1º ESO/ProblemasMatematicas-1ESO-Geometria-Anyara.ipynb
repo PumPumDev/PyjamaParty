{
 "cells": [
  {
   "cell_type": "markdown",
   "metadata": {},
   "source": [
    "# Objetivos\n",
    "\n",
    "- Continuar con la introducción de resolución de problemas mediante la programación.\n",
    "\n",
    "- Entender el concepto de función.\n",
    "\n",
    "- Modelización de problemas gométricos sencillos mediante la programación."
   ]
  },
  {
   "cell_type": "markdown",
   "metadata": {},
   "source": [
    "# INSTRUCCIONES\n",
    "\n",
    "1 - Resuelve los siguientes ejercicios de programación siguiendo los siguientes pasos:\n",
    "\n",
    "  - Reemplaza las interrogaciones por los valores y las expresiones aritméticas que creas conveniente.\n",
    "  - Selecciona las celdas de código que quieras ejecutar y haz click en `Run`.\n",
    "  - Comprueba tus soluciones ejecutando las celdas `esCorrecta(solución, ...)`. Antes de ello, habrás tenido que ejecutar (una sola vez) la siguiente celda:\n",
    "  - Si no sabes como seguir con el ejercicio, ejecuta la celda `pista(...)`. Te echará una mano con el problema."
   ]
  },
  {
   "cell_type": "code",
   "execution_count": 1,
   "metadata": {},
   "outputs": [
    {
     "name": "stdout",
     "output_type": "stream",
     "text": [
      "Compiling /home/jovyan/1º ESO/soluciones1ESO.scCompiling /home/jovyan/1º ESO/pistas.sc"
     ]
    },
    {
     "data": {
      "text/plain": [
       "\u001b[32mimport \u001b[39m\u001b[36m$file.$             , soluciones1ESO._\n",
       "\u001b[39m\n",
       "\u001b[32mimport \u001b[39m\u001b[36m$file.$     , pistas._\u001b[39m"
      ]
     },
     "execution_count": 1,
     "metadata": {},
     "output_type": "execute_result"
    }
   ],
   "source": [
    "import $file.soluciones1ESO, soluciones1ESO._\n",
    "import $file.pistas, pistas._"
   ]
  },
  {
   "cell_type": "markdown",
   "metadata": {},
   "source": [
    "2 - Graba tus cambios:\n",
    "  - `File -> Download as -> Notebook (.ipynb)`.\n",
    "\n",
    "3 - Carga los ficheros con tus cambios mediante las siguientes acciones: \n",
    "  - `File -> Open`\n",
    "  - Pincha en `Upload` y selecciona el fichero donde guardaste tus cambios. \n",
    "  - Confirma `Overrite` en caso de que el fichero ya exista.\n",
    "  - Haz click en el fichero."
   ]
  },
  {
   "cell_type": "markdown",
   "metadata": {},
   "source": [
    "## Funciones\n",
    "\n",
    "Las funciones son una herramienta muy importante en programación. Veamos en qué consisten.\n",
    "\n",
    "Imaginenemos que consigues resolver un problema muy complicado que tiene un montón de cálculos.\n",
    "\n",
    "Después, el profesor te vuelve a poner el mismo problema pero te cambia los datos iniciales.\n",
    "\n",
    "¿Qúe hacemos?¿Volvemos a hacer todas las cuentas? Puff...\n",
    "\n",
    "Las funciones son la solución.\n"
   ]
  },
  {
   "cell_type": "markdown",
   "metadata": {},
   "source": [
    "Veamos un ejemplo.\n",
    "\n",
    "### Ejemplo 1\n",
    "\n",
    "Dado los números 7, 10 y 124, cálcula el doble de ese número, súmale 5, réstale 7."
   ]
  },
  {
   "cell_type": "markdown",
   "metadata": {},
   "source": [
    "#### Solución 1: Sin variables ni funciones"
   ]
  },
  {
   "cell_type": "code",
   "execution_count": null,
   "metadata": {},
   "outputs": [],
   "source": [
    "7*2+5-7\n",
    "\n",
    "10*2+5-7\n",
    "\n",
    "124*2+5-7"
   ]
  },
  {
   "cell_type": "markdown",
   "metadata": {},
   "source": [
    "#### Solución 2: Con variables y funciones"
   ]
  },
  {
   "cell_type": "code",
   "execution_count": null,
   "metadata": {},
   "outputs": [],
   "source": [
    "// Si siempre hacemos los mismos cálculos, ¿Podremos hacerlos automáticos?\n",
    "def cuentas(numero: Int): Int =\n",
    "    numero*2+5-7\n",
    "    "
   ]
  },
  {
   "cell_type": "markdown",
   "metadata": {},
   "source": [
    "Acabamos de definir una función.\n",
    "\n",
    "A una función debemos decirle qué valores va a recibir (un número entero en nuestro caso (Int)) y que valores va a devolver (otro número entero en nuestro caso (Int)).\n",
    "\n",
    "En el interior de la función hemos definido las operaciones que hemos hecho sobre el valor de entrada `numero` para obtener un valor de salida (la solución a nuestro problema). "
   ]
  },
  {
   "cell_type": "code",
   "execution_count": null,
   "metadata": {},
   "outputs": [],
   "source": [
    "// Ahora empleamos la función para resolver el problema PARA CUALQUIER NÚMERO QUE QUERAMOS!!\n",
    "cuentas(7)\n",
    "cuentas(10)\n",
    "cuentas(124)"
   ]
  },
  {
   "cell_type": "markdown",
   "metadata": {},
   "source": [
    "Obtenemos el mismo resultado, pero empleando una función. Esto nos permite solucionar el problema para cualquier número que nos den."
   ]
  },
  {
   "cell_type": "markdown",
   "metadata": {},
   "source": [
    "A continuación, te proponemos varios problemas para resolver empleando **variables** y **funciones**"
   ]
  },
  {
   "cell_type": "markdown",
   "metadata": {},
   "source": [
    "### Problema de ejemplo\n",
    "\n",
    "Haz el área de rectángulo de los siguiente rectángulos:\n",
    "\n",
    "- Rectángulo de base 5 cm y altura 10 cm\n",
    "\n",
    "- Rectángulo de base 7.5 cm y altura 3 cm\n",
    "\n",
    "- Rectángulo de base 14 cm y altura 4.1 cm"
   ]
  },
  {
   "cell_type": "code",
   "execution_count": null,
   "metadata": {},
   "outputs": [],
   "source": [
    "// Zona de definición de la función\n",
    "def area_rectangulo(base: Double, altura: Double) : Double =\n",
    "    base*altura"
   ]
  },
  {
   "cell_type": "code",
   "execution_count": null,
   "metadata": {},
   "outputs": [],
   "source": [
    "// Zona de empleo de la función\n",
    "val rectangulo1 = area_rectangulo(5,10)\n",
    "val rectangulo2 = area_rectangulo(7.5,3)\n",
    "val rectangulo3 = area_rectangulo(14,4.1)"
   ]
  },
  {
   "cell_type": "markdown",
   "metadata": {},
   "source": [
    "Ejecuta la siguiente celda para poder utilizar constantes matemáticas como Pi=3.1416... y funciones para elever al cuadrado (`pow(base: Double, exponent: Double)`) o hacer la raíz cuadrada (`sqrt(numero: Double)`)"
   ]
  },
  {
   "cell_type": "code",
   "execution_count": 2,
   "metadata": {},
   "outputs": [
    {
     "data": {
      "text/plain": [
       "\u001b[32mimport \u001b[39m\u001b[36mscala.math._\u001b[39m"
      ]
     },
     "execution_count": 2,
     "metadata": {},
     "output_type": "execute_result"
    }
   ],
   "source": [
    "import scala.math._"
   ]
  },
  {
   "cell_type": "markdown",
   "metadata": {},
   "source": [
    "# Ejercicio 1"
   ]
  },
  {
   "cell_type": "markdown",
   "metadata": {},
   "source": [
    "Dados 2 ángulos de los siguientes triángulos, ¿cuánto es el valor (en grados) del tercer ángulo?\n",
    "\n",
    "- Triángulo A: 25º y 41º\n",
    "\n",
    "- Triángulo B: 100º y 32º\n",
    "\n",
    "- Triángulo C: 20º y 143º"
   ]
  },
  {
   "cell_type": "code",
   "execution_count": 7,
   "metadata": {},
   "outputs": [
    {
     "data": {
      "text/plain": [
       "defined \u001b[32mfunction\u001b[39m \u001b[36mangulo_restante\u001b[39m"
      ]
     },
     "execution_count": 7,
     "metadata": {},
     "output_type": "execute_result"
    }
   ],
   "source": [
    "// Define la función\n",
    "def angulo_restante(angulo1: Int, angulo2: Int): Int = 180 - (angulo1 + angulo2)"
   ]
  },
  {
   "cell_type": "code",
   "execution_count": 8,
   "metadata": {},
   "outputs": [
    {
     "data": {
      "text/plain": [
       "\u001b[36mtrianguloA\u001b[39m: \u001b[32mInt\u001b[39m = \u001b[32m114\u001b[39m\n",
       "\u001b[36mtrianguloB\u001b[39m: \u001b[32mInt\u001b[39m = \u001b[32m48\u001b[39m\n",
       "\u001b[36mtrianguloC\u001b[39m: \u001b[32mInt\u001b[39m = \u001b[32m17\u001b[39m"
      ]
     },
     "execution_count": 8,
     "metadata": {},
     "output_type": "execute_result"
    }
   ],
   "source": [
    "// Utiliza la función para resolver el problema\n",
    "val trianguloA = angulo_restante(25,41)\n",
    "val trianguloB = angulo_restante(100,32)\n",
    "val trianguloC = angulo_restante(20,143)"
   ]
  },
  {
   "cell_type": "markdown",
   "metadata": {},
   "source": [
    "**Si te quedas atascada ejecuta la siguiente celda**"
   ]
  },
  {
   "cell_type": "code",
   "execution_count": 3,
   "metadata": {},
   "outputs": [
    {
     "name": "stdout",
     "output_type": "stream",
     "text": [
      "Recuerda que la suma de ángulos de un triángulo es 180º\n"
     ]
    }
   ],
   "source": [
    "pista(\"1\")"
   ]
  },
  {
   "cell_type": "markdown",
   "metadata": {},
   "source": [
    "Comprueba tu solución:"
   ]
  },
  {
   "cell_type": "code",
   "execution_count": 9,
   "metadata": {},
   "outputs": [
    {
     "name": "stdout",
     "output_type": "stream",
     "text": [
      "Correcta, nenica, sigue así.\n"
     ]
    }
   ],
   "source": [
    "esCorrecta(trianguloA,\"1a\")"
   ]
  },
  {
   "cell_type": "code",
   "execution_count": 10,
   "metadata": {},
   "outputs": [
    {
     "name": "stdout",
     "output_type": "stream",
     "text": [
      "Correcta, nenica, sigue así.\n"
     ]
    }
   ],
   "source": [
    "esCorrecta(trianguloB,\"1b\")"
   ]
  },
  {
   "cell_type": "code",
   "execution_count": 11,
   "metadata": {},
   "outputs": [
    {
     "name": "stdout",
     "output_type": "stream",
     "text": [
      "Correcta, nenica, sigue así.\n"
     ]
    }
   ],
   "source": [
    "esCorrecta(trianguloC,\"1c\")"
   ]
  },
  {
   "cell_type": "markdown",
   "metadata": {},
   "source": [
    "# Ejercicio 2"
   ]
  },
  {
   "cell_type": "markdown",
   "metadata": {},
   "source": [
    "Calcula la suma de los ángulos de los siguientes polígonos.\n",
    "\n",
    "- Hexágono\n",
    "\n",
    "- Eneágono\n",
    "\n",
    "- Dodecágono"
   ]
  },
  {
   "cell_type": "code",
   "execution_count": 14,
   "metadata": {},
   "outputs": [
    {
     "data": {
      "text/plain": [
       "defined \u001b[32mfunction\u001b[39m \u001b[36msuma_angulos\u001b[39m"
      ]
     },
     "execution_count": 14,
     "metadata": {},
     "output_type": "execute_result"
    }
   ],
   "source": [
    "// Define la función\n",
    "def suma_angulos(lados: Int): Int = 180 * (lados-2)"
   ]
  },
  {
   "cell_type": "code",
   "execution_count": 21,
   "metadata": {},
   "outputs": [
    {
     "data": {
      "text/plain": [
       "\u001b[36mhexagono\u001b[39m: \u001b[32mInt\u001b[39m = \u001b[32m720\u001b[39m\n",
       "\u001b[36meneagono\u001b[39m: \u001b[32mInt\u001b[39m = \u001b[32m1260\u001b[39m\n",
       "\u001b[36mdodecagono\u001b[39m: \u001b[32mInt\u001b[39m = \u001b[32m1800\u001b[39m"
      ]
     },
     "execution_count": 21,
     "metadata": {},
     "output_type": "execute_result"
    }
   ],
   "source": [
    "// Utiliza la función para resolver el problema\n",
    "val hexagono = suma_angulos (6)\n",
    "val eneagono = suma_angulos (9)\n",
    "val dodecagono = suma_angulos (12)"
   ]
  },
  {
   "cell_type": "markdown",
   "metadata": {},
   "source": [
    "**Si te quedas atascada ejecuta la siguiente celda**"
   ]
  },
  {
   "cell_type": "code",
   "execution_count": 12,
   "metadata": {},
   "outputs": [
    {
     "name": "stdout",
     "output_type": "stream",
     "text": [
      "Recuerda que la suma de los ángulos de un polígono de n lados es: 180º * (n-2)\n"
     ]
    }
   ],
   "source": [
    "pista(\"2\")"
   ]
  },
  {
   "cell_type": "markdown",
   "metadata": {},
   "source": [
    "Compruba tu solución"
   ]
  },
  {
   "cell_type": "code",
   "execution_count": 22,
   "metadata": {},
   "outputs": [
    {
     "name": "stdout",
     "output_type": "stream",
     "text": [
      "Correcta, nenica, sigue así.\n"
     ]
    }
   ],
   "source": [
    "esCorrecta(hexagono,\"2a\")"
   ]
  },
  {
   "cell_type": "code",
   "execution_count": 19,
   "metadata": {},
   "outputs": [
    {
     "name": "stdout",
     "output_type": "stream",
     "text": [
      "Correcta, nenica, sigue así.\n"
     ]
    }
   ],
   "source": [
    "esCorrecta(eneagono,\"2b\")"
   ]
  },
  {
   "cell_type": "code",
   "execution_count": 20,
   "metadata": {},
   "outputs": [
    {
     "name": "stdout",
     "output_type": "stream",
     "text": [
      "Correcta, nenica, sigue así.\n"
     ]
    }
   ],
   "source": [
    "esCorrecta(dodecagono,\"2c\")"
   ]
  },
  {
   "cell_type": "markdown",
   "metadata": {},
   "source": [
    "# Ejercicio 3"
   ]
  },
  {
   "cell_type": "markdown",
   "metadata": {},
   "source": [
    "Para el siguiente ejercicio necesitas la función `sqrt(numero: Double)`n la cual devuelve la raiz cuadrada del número pasado y la función `pow(base: Double, exponente: Double)`, la cual devuelve el primer número elevado al segundo."
   ]
  },
  {
   "cell_type": "markdown",
   "metadata": {},
   "source": [
    "Dados los siguientes **triángulos rectángulos**, calcula el lado que falta (cateto o hipotenusa según corresponda).\n",
    "\n",
    "- TriánguloA: Cateto = 2.6, Hipotenusa = 5, Cateto = ???\n",
    "- TriánguloB: Cateto = 12.6, Cateto = 12.6, Hipotenusa = ???"
   ]
  },
  {
   "cell_type": "code",
   "execution_count": 7,
   "metadata": {},
   "outputs": [
    {
     "data": {
      "text/plain": [
       "defined \u001b[32mfunction\u001b[39m \u001b[36mfalta_cateto\u001b[39m\n",
       "defined \u001b[32mfunction\u001b[39m \u001b[36mfalta_hipotenusa\u001b[39m"
      ]
     },
     "execution_count": 7,
     "metadata": {},
     "output_type": "execute_result"
    }
   ],
   "source": [
    "// Definición de funciones\n",
    "def falta_cateto (cateto: Double, hipotenusa: Double): Double = \n",
    "  sqrt(pow(hipotenusa,2) - pow(cateto,2))\n",
    "def falta_hipotenusa (cateto1: Double, cateto2: Double): Double = \n",
    "  sqrt(pow(cateto1,2) + pow(cateto2,2))"
   ]
  },
  {
   "cell_type": "code",
   "execution_count": 8,
   "metadata": {},
   "outputs": [
    {
     "data": {
      "text/plain": [
       "\u001b[36mtrianguloA\u001b[39m: \u001b[32mDouble\u001b[39m = \u001b[32m4.2708313008125245\u001b[39m\n",
       "\u001b[36mtrianguloB\u001b[39m: \u001b[32mDouble\u001b[39m = \u001b[32m17.819090885900998\u001b[39m"
      ]
     },
     "execution_count": 8,
     "metadata": {},
     "output_type": "execute_result"
    }
   ],
   "source": [
    "// Utiliza la función para resolver el problema\n",
    "val trianguloA = falta_cateto (2.6,5)\n",
    "val trianguloB = falta_hipotenusa(12.6,12.6)"
   ]
  },
  {
   "cell_type": "markdown",
   "metadata": {},
   "source": [
    "**Si te quedas atascada ejecuta la siguiente celda**"
   ]
  },
  {
   "cell_type": "code",
   "execution_count": 23,
   "metadata": {},
   "outputs": [
    {
     "name": "stdout",
     "output_type": "stream",
     "text": [
      "Recuerda el Teorema de Pitágoras: cateto1^2+cateto2^2 = hipotenusa^2\n"
     ]
    }
   ],
   "source": [
    "pista(\"3\")"
   ]
  },
  {
   "cell_type": "markdown",
   "metadata": {},
   "source": [
    "Compruba tu solución"
   ]
  },
  {
   "cell_type": "code",
   "execution_count": 9,
   "metadata": {},
   "outputs": [
    {
     "name": "stdout",
     "output_type": "stream",
     "text": [
      "Correcta, nenica, sigue así.\n"
     ]
    }
   ],
   "source": [
    "esCorrecta(trianguloA,\"3a\")"
   ]
  },
  {
   "cell_type": "code",
   "execution_count": 6,
   "metadata": {},
   "outputs": [
    {
     "name": "stdout",
     "output_type": "stream",
     "text": [
      "Correcta, nenica, sigue así.\n"
     ]
    }
   ],
   "source": [
    "esCorrecta(trianguloB,\"3b\")"
   ]
  },
  {
   "cell_type": "markdown",
   "metadata": {},
   "source": [
    "# Ejercicio 4"
   ]
  },
  {
   "cell_type": "markdown",
   "metadata": {},
   "source": [
    "Calcula **el área y longitud** de las circunferencias con los siguientes radios:\n",
    "\n",
    "- Circunferencia A: radio = 8\n",
    "\n",
    "- Circunferencia B: radio = 4.36"
   ]
  },
  {
   "cell_type": "code",
   "execution_count": null,
   "metadata": {},
   "outputs": [],
   "source": [
    "// Definición de funciones\n",
    "def calculo_area(radio: Double): Double = ???\n",
    "\n",
    "def calculo_longitud (radio: Double): Double = ???"
   ]
  },
  {
   "cell_type": "code",
   "execution_count": null,
   "metadata": {},
   "outputs": [],
   "source": [
    "// Utiliza las funciones para resolver el problema\n",
    "val circunferenciaA_area = ???\n",
    "val circunferenciaA_longitud = ???\n",
    "\n",
    "val circunferenciaB_area = ???\n",
    "val circunferenciaB_longitud = ???\n"
   ]
  },
  {
   "cell_type": "markdown",
   "metadata": {},
   "source": [
    "**Si te quedas atascada ejecuta la siguiente celda**"
   ]
  },
  {
   "cell_type": "code",
   "execution_count": null,
   "metadata": {},
   "outputs": [],
   "source": [
    "pista(\"4\")"
   ]
  },
  {
   "cell_type": "markdown",
   "metadata": {},
   "source": [
    "Compruba tu solución"
   ]
  },
  {
   "cell_type": "code",
   "execution_count": null,
   "metadata": {},
   "outputs": [],
   "source": [
    "esCorrecta(circunferenciaA_area,\"4a\")"
   ]
  },
  {
   "cell_type": "code",
   "execution_count": null,
   "metadata": {},
   "outputs": [],
   "source": [
    "esCorrecta(circunferenciaA_longitud,\"4b\")"
   ]
  },
  {
   "cell_type": "code",
   "execution_count": null,
   "metadata": {},
   "outputs": [],
   "source": [
    "esCorrecta(circunferenciaB_area,\"4c\")"
   ]
  },
  {
   "cell_type": "code",
   "execution_count": null,
   "metadata": {},
   "outputs": [],
   "source": [
    "esCorrecta(circunferenciaB_longitud,\"4d\")"
   ]
  },
  {
   "cell_type": "markdown",
   "metadata": {},
   "source": [
    "# Ejercicio 5"
   ]
  },
  {
   "cell_type": "markdown",
   "metadata": {},
   "source": [
    "Calcula el área de los siguientes sectores circulares.\n",
    "\n",
    "- Área del Sector Circular A: 121º (grados) y radio 9\n",
    "\n",
    "- Área del Sector Circular B: 95º (grados) y radio 3.25"
   ]
  },
  {
   "cell_type": "code",
   "execution_count": null,
   "metadata": {},
   "outputs": [],
   "source": [
    "// Definición de funciones\n",
    "def calculo_area_sector(radio: Double, grados: Double): Double = ???"
   ]
  },
  {
   "cell_type": "code",
   "execution_count": null,
   "metadata": {},
   "outputs": [],
   "source": [
    "// Utiliza las funciones para resolver el problema\n",
    "val sectorA = ???\n",
    "val sectorB = ???"
   ]
  },
  {
   "cell_type": "markdown",
   "metadata": {},
   "source": [
    "**Si te quedas atascada ejecuta la siguiente celda**"
   ]
  },
  {
   "cell_type": "code",
   "execution_count": null,
   "metadata": {},
   "outputs": [],
   "source": [
    "pista(\"5\")"
   ]
  },
  {
   "cell_type": "code",
   "execution_count": null,
   "metadata": {},
   "outputs": [],
   "source": [
    "esCorrecta(sectorA,\"5a\")"
   ]
  },
  {
   "cell_type": "code",
   "execution_count": null,
   "metadata": {},
   "outputs": [],
   "source": [
    "esCorrecta(sectorB,\"5b\")"
   ]
  }
 ],
 "metadata": {
  "kernelspec": {
   "display_name": "Scala (2.11)",
   "language": "scala",
   "name": "scala211"
  },
  "language_info": {
   "codemirror_mode": "text/x-scala",
   "file_extension": ".scala",
   "mimetype": "text/x-scala",
   "name": "scala",
   "nbconvert_exporter": "script",
   "version": "2.11.12"
  }
 },
 "nbformat": 4,
 "nbformat_minor": 4
}
