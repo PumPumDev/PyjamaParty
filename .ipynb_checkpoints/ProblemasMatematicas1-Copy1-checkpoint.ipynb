{
 "cells": [
  {
   "cell_type": "code",
   "execution_count": 1,
   "metadata": {},
   "outputs": [
    {
     "data": {
      "text/plain": [
       "\u001b[32mimport \u001b[39m\u001b[36m$file.$         , soluciones._\n",
       "\u001b[39m"
      ]
     },
     "execution_count": 1,
     "metadata": {},
     "output_type": "execute_result"
    }
   ],
   "source": [
    "import $file.soluciones, soluciones._\n",
    "repl.pprinter() = repl.pprinter().copy(defaultHeight = 1)"
   ]
  },
  {
   "cell_type": "markdown",
   "metadata": {},
   "source": [
    "# EJERCICIO 1"
   ]
  },
  {
   "cell_type": "markdown",
   "metadata": {},
   "source": [
    "En un cine hay 392 butacas. Si hay 14 butacas por fila ... "
   ]
  },
  {
   "cell_type": "code",
   "execution_count": 2,
   "metadata": {
    "tags": [
     "hide_output",
     "raises-exception"
    ]
   },
   "outputs": [
    {
     "data": {
      "text/plain": [
       "\u001b[36mbutacas\u001b[39m: \u001b[32mInt\u001b[39m = \u001b[32m392\u001b[39m\n",
       "\u001b[36mbutacas_por_fila\u001b[39m: \u001b[32mInt\u001b[39m = \u001b[32m14\u001b[39m"
      ]
     },
     "execution_count": 2,
     "metadata": {},
     "output_type": "execute_result"
    }
   ],
   "source": [
    "val butacas = 392\n",
    "val butacas_por_fila = 14"
   ]
  },
  {
   "cell_type": "markdown",
   "metadata": {},
   "source": [
    "¿cuántas filas hay en el cine?"
   ]
  },
  {
   "cell_type": "code",
   "execution_count": 3,
   "metadata": {
    "tags": [
     "raises-exception"
    ]
   },
   "outputs": [
    {
     "name": "stdout",
     "output_type": "stream",
     "text": [
      "Respuesta: Tiene 28 filas"
     ]
    },
    {
     "data": {
      "text/plain": [
       "\u001b[36msolución\u001b[39m: \u001b[32mInt\u001b[39m = \u001b[32m28\u001b[39m"
      ]
     },
     "execution_count": 3,
     "metadata": {},
     "output_type": "execute_result"
    }
   ],
   "source": [
    "val solución = butacas / butacas_por_fila\n",
    "\n",
    "print(s\"Respuesta: Tiene $solución filas\")"
   ]
  },
  {
   "cell_type": "markdown",
   "metadata": {},
   "source": [
    "Comprueba tu solución: "
   ]
  },
  {
   "cell_type": "code",
   "execution_count": 4,
   "metadata": {},
   "outputs": [
    {
     "name": "stdout",
     "output_type": "stream",
     "text": [
      "Enhorabuena, moñas, es correcto.\n"
     ]
    },
    {
     "data": {
      "text/plain": [
       "\u001b[36mres3_1\u001b[39m: \u001b[32mList\u001b[39m[\u001b[32mInt\u001b[39m] = \u001b[33mList\u001b[39m(\u001b[32m-19\u001b[39m, \u001b[32m-67\u001b[39m, \u001b[32m72\u001b[39m, \u001b[32m-56\u001b[39m, \u001b[32m54\u001b[39m, \u001b[32m-8\u001b[39m, \u001b[32m38\u001b[39m, \u001b[32m-75\u001b[39m, \u001b[32m-19\u001b[39m, \u001b[32m-115\u001b[39m)"
      ]
     },
     "execution_count": 4,
     "metadata": {},
     "output_type": "execute_result"
    }
   ],
   "source": [
    "esCorrecta(solución, \"1a\")\n",
    "hash(28)"
   ]
  },
  {
   "cell_type": "markdown",
   "metadata": {},
   "source": [
    "# EJERCICIO 2 \n",
    "\n",
    "\n",
    "Berta tiene 32 libros."
   ]
  },
  {
   "cell_type": "code",
   "execution_count": 5,
   "metadata": {},
   "outputs": [
    {
     "data": {
      "text/plain": [
       "\u001b[36mlibros\u001b[39m: \u001b[32mInt\u001b[39m = \u001b[32m32\u001b[39m"
      ]
     },
     "execution_count": 5,
     "metadata": {},
     "output_type": "execute_result"
    }
   ],
   "source": [
    "val libros = 32"
   ]
  },
  {
   "cell_type": "markdown",
   "metadata": {},
   "source": [
    "Si le dan una cantidad 5 veces mayor. ¿Cuántos libros tendrá ahora Berta? \n"
   ]
  },
  {
   "cell_type": "code",
   "execution_count": 6,
   "metadata": {},
   "outputs": [
    {
     "name": "stdout",
     "output_type": "stream",
     "text": [
      "Respuesta: Tendrá 192 libros"
     ]
    },
    {
     "data": {
      "text/plain": [
       "\u001b[36msolución\u001b[39m: \u001b[32mInt\u001b[39m = \u001b[32m192\u001b[39m"
      ]
     },
     "execution_count": 6,
     "metadata": {},
     "output_type": "execute_result"
    }
   ],
   "source": [
    "val solución = libros + 5 * libros\n",
    "\n",
    "print(s\"Respuesta: Tendrá $solución libros\")"
   ]
  },
  {
   "cell_type": "markdown",
   "metadata": {},
   "source": [
    "Comprueba tu solución: "
   ]
  },
  {
   "cell_type": "code",
   "execution_count": 7,
   "metadata": {},
   "outputs": [
    {
     "name": "stdout",
     "output_type": "stream",
     "text": [
      "¿De qué vas? Ese ejercicio no existe.\n"
     ]
    },
    {
     "data": {
      "text/plain": [
       "\u001b[36mres6_1\u001b[39m: \u001b[32mList\u001b[39m[\u001b[32mInt\u001b[39m] = \u001b[33mList\u001b[39m(\u001b[32m-49\u001b[39m, \u001b[32m27\u001b[39m, \u001b[32m-120\u001b[39m, \u001b[32m28\u001b[39m, \u001b[32m-114\u001b[39m, \u001b[32m-57\u001b[39m, \u001b[32m53\u001b[39m, \u001b[32m81\u001b[39m, \u001b[32m103\u001b[39m, \u001b[32m41\u001b[39m)"
      ]
     },
     "execution_count": 7,
     "metadata": {},
     "output_type": "execute_result"
    }
   ],
   "source": [
    "esCorrecta(solución, \"2a\")\n",
    "hash(solución)"
   ]
  },
  {
   "cell_type": "markdown",
   "metadata": {},
   "source": [
    "__Si a la cantidad original le quitaran una cuarta parte, ¿cuántos libros le quedarían?__"
   ]
  },
  {
   "cell_type": "code",
   "execution_count": 8,
   "metadata": {},
   "outputs": [
    {
     "name": "stdout",
     "output_type": "stream",
     "text": [
      "Respuesta: ... 24 ..."
     ]
    },
    {
     "data": {
      "text/plain": [
       "\u001b[36msolución\u001b[39m: \u001b[32mInt\u001b[39m = \u001b[32m24\u001b[39m"
      ]
     },
     "execution_count": 8,
     "metadata": {},
     "output_type": "execute_result"
    }
   ],
   "source": [
    "val solución = libros - (libros/4)\n",
    "\n",
    "print(s\"Respuesta: ... $solución ...\")"
   ]
  },
  {
   "cell_type": "markdown",
   "metadata": {},
   "source": [
    "Comprueba tu solución: "
   ]
  },
  {
   "cell_type": "code",
   "execution_count": 9,
   "metadata": {},
   "outputs": [
    {
     "name": "stdout",
     "output_type": "stream",
     "text": [
      "¿De qué vas? Ese ejercicio no existe.\n"
     ]
    },
    {
     "data": {
      "text/plain": [
       "\u001b[36mres8_1\u001b[39m: \u001b[32mList\u001b[39m[\u001b[32mInt\u001b[39m] = \u001b[33mList\u001b[39m(\u001b[32m-64\u001b[39m, \u001b[32m3\u001b[39m, \u001b[32m59\u001b[39m, \u001b[32m95\u001b[39m, \u001b[32m90\u001b[39m, \u001b[32m72\u001b[39m, \u001b[32m21\u001b[39m, \u001b[32m-95\u001b[39m, \u001b[32m114\u001b[39m, \u001b[32m-104\u001b[39m)"
      ]
     },
     "execution_count": 9,
     "metadata": {},
     "output_type": "execute_result"
    }
   ],
   "source": [
    "esCorrecta(solución, \"2b\")\n",
    "hash(solución)"
   ]
  },
  {
   "cell_type": "markdown",
   "metadata": {},
   "source": [
    "# EJERCICIO 3"
   ]
  },
  {
   "cell_type": "markdown",
   "metadata": {},
   "source": [
    "Un embalse tiene una capacidad de un millón de metros cúbicos. Ahora tiene 150000 ... "
   ]
  },
  {
   "cell_type": "code",
   "execution_count": 10,
   "metadata": {},
   "outputs": [
    {
     "data": {
      "text/plain": [
       "\u001b[36mcapacidad\u001b[39m: \u001b[32mInt\u001b[39m = \u001b[32m1000000\u001b[39m\n",
       "\u001b[36mactual\u001b[39m: \u001b[32mInt\u001b[39m = \u001b[32m150000\u001b[39m"
      ]
     },
     "execution_count": 10,
     "metadata": {},
     "output_type": "execute_result"
    }
   ],
   "source": [
    "val capacidad = 1000000\n",
    "val actual = 150000"
   ]
  },
  {
   "cell_type": "markdown",
   "metadata": {},
   "source": [
    "..., y gana, en dos veces, 75000 m3 y 50000 m3, respectivamente. ¿Cuántos metros cúbicos faltan para que el embalse esté a su máxima capacidad?"
   ]
  },
  {
   "cell_type": "code",
   "execution_count": 11,
   "metadata": {},
   "outputs": [
    {
     "name": "stdout",
     "output_type": "stream",
     "text": [
      "Respuesta: Faltan 725000 m3"
     ]
    },
    {
     "data": {
      "text/plain": [
       "\u001b[36msolución\u001b[39m: \u001b[32mInt\u001b[39m = \u001b[32m725000\u001b[39m"
      ]
     },
     "execution_count": 11,
     "metadata": {},
     "output_type": "execute_result"
    }
   ],
   "source": [
    "val solución = capacidad - (actual + 75000 + 50000)\n",
    "\n",
    "print(s\"Respuesta: Faltan $solución m3\")"
   ]
  },
  {
   "cell_type": "markdown",
   "metadata": {},
   "source": [
    "Comprueba tu solución: "
   ]
  },
  {
   "cell_type": "code",
   "execution_count": 12,
   "metadata": {},
   "outputs": [
    {
     "name": "stdout",
     "output_type": "stream",
     "text": [
      "¿De qué vas? Ese ejercicio no existe.\n"
     ]
    },
    {
     "data": {
      "text/plain": [
       "\u001b[36mres11_1\u001b[39m: \u001b[32mList\u001b[39m[\u001b[32mInt\u001b[39m] = \u001b[33mList\u001b[39m(\u001b[32m-28\u001b[39m, \u001b[32m47\u001b[39m, \u001b[32m83\u001b[39m, \u001b[32m-29\u001b[39m, \u001b[32m64\u001b[39m, \u001b[32m-66\u001b[39m, \u001b[32m-84\u001b[39m, \u001b[32m15\u001b[39m, \u001b[32m-75\u001b[39m, \u001b[32m-94\u001b[39m)"
      ]
     },
     "execution_count": 12,
     "metadata": {},
     "output_type": "execute_result"
    }
   ],
   "source": [
    "esCorrecta(solución, \"3a\")\n",
    "hash(solución)"
   ]
  },
  {
   "cell_type": "markdown",
   "metadata": {},
   "source": [
    "__Sin en lugar de ganar, perdiera cada día 30000 m3, ¿cuántos días tardaría en vaciarse?__"
   ]
  },
  {
   "cell_type": "code",
   "execution_count": 13,
   "metadata": {},
   "outputs": [
    {
     "name": "stdout",
     "output_type": "stream",
     "text": [
      "Respuesta: ... 5 ..."
     ]
    },
    {
     "data": {
      "text/plain": [
       "\u001b[36msolución\u001b[39m: \u001b[32mInt\u001b[39m = \u001b[32m5\u001b[39m"
      ]
     },
     "execution_count": 13,
     "metadata": {},
     "output_type": "execute_result"
    }
   ],
   "source": [
    "val solución = actual / 30000 \n",
    "\n",
    "print(s\"Respuesta: ... $solución ...\")"
   ]
  },
  {
   "cell_type": "markdown",
   "metadata": {},
   "source": [
    "Comprueba tu solución: "
   ]
  },
  {
   "cell_type": "code",
   "execution_count": 14,
   "metadata": {},
   "outputs": [
    {
     "name": "stdout",
     "output_type": "stream",
     "text": [
      "¿De qué vas? Ese ejercicio no existe.\n"
     ]
    },
    {
     "data": {
      "text/plain": [
       "\u001b[36mres13_1\u001b[39m: \u001b[32mList\u001b[39m[\u001b[32mInt\u001b[39m] = \u001b[33mList\u001b[39m(\u001b[32m6\u001b[39m, \u001b[32m-33\u001b[39m, \u001b[32m5\u001b[39m, \u001b[32m55\u001b[39m, \u001b[32m25\u001b[39m, \u001b[32m-127\u001b[39m, \u001b[32m-94\u001b[39m, \u001b[32m55\u001b[39m, \u001b[32m-48\u001b[39m, \u001b[32m-19\u001b[39m)"
      ]
     },
     "execution_count": 14,
     "metadata": {},
     "output_type": "execute_result"
    }
   ],
   "source": [
    "esCorrecta(solución, \"3b\")\n",
    "hash(solución)"
   ]
  },
  {
   "cell_type": "markdown",
   "metadata": {},
   "source": [
    "# EJERCICIO 4"
   ]
  },
  {
   "cell_type": "markdown",
   "metadata": {},
   "source": [
    "Raquel se prepara para participar en una carrera. Cada mañana corre 24 km y cada tarde corre 15 km. "
   ]
  },
  {
   "cell_type": "code",
   "execution_count": 15,
   "metadata": {},
   "outputs": [
    {
     "data": {
      "text/plain": [
       "\u001b[36mmañana\u001b[39m: \u001b[32mInt\u001b[39m = \u001b[32m24\u001b[39m\n",
       "\u001b[36mtarde\u001b[39m: \u001b[32mInt\u001b[39m = \u001b[32m15\u001b[39m"
      ]
     },
     "execution_count": 15,
     "metadata": {},
     "output_type": "execute_result"
    }
   ],
   "source": [
    "val mañana = 24\n",
    "val tarde = 15"
   ]
  },
  {
   "cell_type": "markdown",
   "metadata": {},
   "source": [
    "¿Cuántos kilómetros corre Raquel en 12 días?"
   ]
  },
  {
   "cell_type": "code",
   "execution_count": 16,
   "metadata": {},
   "outputs": [
    {
     "data": {
      "text/plain": [
       "\u001b[36msolución\u001b[39m: \u001b[32mInt\u001b[39m = \u001b[32m468\u001b[39m"
      ]
     },
     "execution_count": 16,
     "metadata": {},
     "output_type": "execute_result"
    }
   ],
   "source": [
    "val solución = 12 * (mañana + tarde)"
   ]
  },
  {
   "cell_type": "code",
   "execution_count": 17,
   "metadata": {},
   "outputs": [
    {
     "name": "stdout",
     "output_type": "stream",
     "text": [
      "Respuesta: En 12 días corre 468 km."
     ]
    }
   ],
   "source": [
    "print(s\"Respuesta: En 12 días corre $solución km.\")"
   ]
  },
  {
   "cell_type": "markdown",
   "metadata": {},
   "source": [
    "Comprueba tu solución: "
   ]
  },
  {
   "cell_type": "code",
   "execution_count": 18,
   "metadata": {},
   "outputs": [
    {
     "name": "stdout",
     "output_type": "stream",
     "text": [
      "¿De qué vas? Ese ejercicio no existe.\n"
     ]
    },
    {
     "data": {
      "text/plain": [
       "\u001b[36mres17_1\u001b[39m: \u001b[32mList\u001b[39m[\u001b[32mInt\u001b[39m] = \u001b[33mList\u001b[39m(\u001b[32m-117\u001b[39m, \u001b[32m-107\u001b[39m, \u001b[32m43\u001b[39m, \u001b[32m5\u001b[39m, \u001b[32m102\u001b[39m, \u001b[32m117\u001b[39m, \u001b[32m32\u001b[39m, \u001b[32m-110\u001b[39m, \u001b[32m-61\u001b[39m, \u001b[32m-27\u001b[39m)"
      ]
     },
     "execution_count": 18,
     "metadata": {},
     "output_type": "execute_result"
    }
   ],
   "source": [
    "esCorrecta(solución, \"4a\")\n",
    "hash(solución)"
   ]
  },
  {
   "cell_type": "markdown",
   "metadata": {},
   "source": [
    "__¿Cuántos días tardaría en dar la vuelta al mundo a ese ritmo? Búscate la vida para encontrar cuántos kilómetros hay que recorrer para dar la vuelta al mundo siguiendo la línea del Ecuador.__"
   ]
  },
  {
   "cell_type": "code",
   "execution_count": 20,
   "metadata": {},
   "outputs": [
    {
     "name": "stdout",
     "output_type": "stream",
     "text": [
      "Respuesta: ... 1027 ..."
     ]
    },
    {
     "data": {
      "text/plain": [
       "\u001b[36msolución\u001b[39m: \u001b[32mInt\u001b[39m = \u001b[32m1027\u001b[39m"
      ]
     },
     "execution_count": 20,
     "metadata": {},
     "output_type": "execute_result"
    }
   ],
   "source": [
    "val solución = 40075 / (mañana + tarde)\n",
    "\n",
    "print(s\"Respuesta: ... $solución ...\")"
   ]
  },
  {
   "cell_type": "markdown",
   "metadata": {},
   "source": [
    "Comprueba tu solución: "
   ]
  },
  {
   "cell_type": "code",
   "execution_count": 21,
   "metadata": {},
   "outputs": [
    {
     "name": "stdout",
     "output_type": "stream",
     "text": [
      "¿De qué vas? Ese ejercicio no existe.\n"
     ]
    },
    {
     "data": {
      "text/plain": [
       "\u001b[36mres20_1\u001b[39m: \u001b[32mList\u001b[39m[\u001b[32mInt\u001b[39m] = \u001b[33mList\u001b[39m(\u001b[32m77\u001b[39m, \u001b[32m-29\u001b[39m, \u001b[32m22\u001b[39m, \u001b[32m22\u001b[39m, \u001b[32m78\u001b[39m, \u001b[32m-65\u001b[39m, \u001b[32m-55\u001b[39m, \u001b[32m34\u001b[39m, \u001b[32m-93\u001b[39m, \u001b[32m-107\u001b[39m)"
      ]
     },
     "execution_count": 21,
     "metadata": {},
     "output_type": "execute_result"
    }
   ],
   "source": [
    "esCorrecta(solución, \"4b\")\n",
    "hash(solución)"
   ]
  },
  {
   "cell_type": "markdown",
   "metadata": {},
   "source": [
    "# EJERCICIO 5"
   ]
  },
  {
   "cell_type": "markdown",
   "metadata": {},
   "source": [
    "El precio de una revista son 6€, ... "
   ]
  },
  {
   "cell_type": "code",
   "execution_count": 22,
   "metadata": {},
   "outputs": [
    {
     "data": {
      "text/plain": [
       "\u001b[36mprecio_por_revista\u001b[39m: \u001b[32mInt\u001b[39m = \u001b[32m6\u001b[39m"
      ]
     },
     "execution_count": 22,
     "metadata": {},
     "output_type": "execute_result"
    }
   ],
   "source": [
    "val precio_por_revista = 6"
   ]
  },
  {
   "cell_type": "markdown",
   "metadata": {},
   "source": [
    "¿Cuánto cuestan 6 docenas de revistas?"
   ]
  },
  {
   "cell_type": "code",
   "execution_count": 23,
   "metadata": {},
   "outputs": [
    {
     "name": "stdout",
     "output_type": "stream",
     "text": [
      "Respuesta: Las 6 docenas cuestan 432 €"
     ]
    },
    {
     "data": {
      "text/plain": [
       "\u001b[36msolución\u001b[39m: \u001b[32mInt\u001b[39m = \u001b[32m432\u001b[39m"
      ]
     },
     "execution_count": 23,
     "metadata": {},
     "output_type": "execute_result"
    }
   ],
   "source": [
    "val solución = 6 * 12 * precio_por_revista\n",
    "\n",
    "print(s\"Respuesta: Las 6 docenas cuestan $solución €\")"
   ]
  },
  {
   "cell_type": "markdown",
   "metadata": {},
   "source": [
    "Comprueba tu solución: "
   ]
  },
  {
   "cell_type": "code",
   "execution_count": 24,
   "metadata": {},
   "outputs": [
    {
     "name": "stdout",
     "output_type": "stream",
     "text": [
      "¿De qué vas? Ese ejercicio no existe.\n"
     ]
    },
    {
     "data": {
      "text/plain": [
       "\u001b[36mres23_1\u001b[39m: \u001b[32mList\u001b[39m[\u001b[32mInt\u001b[39m] = \u001b[33mList\u001b[39m(\u001b[32m-69\u001b[39m, \u001b[32m108\u001b[39m, \u001b[32m58\u001b[39m, \u001b[32m50\u001b[39m, \u001b[32m2\u001b[39m, \u001b[32m-20\u001b[39m, \u001b[32m116\u001b[39m, \u001b[32m85\u001b[39m, \u001b[32m125\u001b[39m, \u001b[32m-41\u001b[39m)"
      ]
     },
     "execution_count": 24,
     "metadata": {},
     "output_type": "execute_result"
    }
   ],
   "source": [
    "esCorrecta(solución, \"5a\")\n",
    "hash(solución)"
   ]
  },
  {
   "cell_type": "markdown",
   "metadata": {},
   "source": [
    "__En lugar de comprar las revistas sueltas, el Eduardito está considerando la opción de suscribirse a la revista. Sabiendo que la anualidad de la suscripción son 240€, ¿cuántos ejemplares al mes recibirá si el precio por revista le sale en esta modalidad a 5€?__"
   ]
  },
  {
   "cell_type": "code",
   "execution_count": 25,
   "metadata": {},
   "outputs": [
    {
     "name": "stdout",
     "output_type": "stream",
     "text": [
      "Respuesta: ... 4 ..."
     ]
    },
    {
     "data": {
      "text/plain": [
       "\u001b[36msolución\u001b[39m: \u001b[32mInt\u001b[39m = \u001b[32m4\u001b[39m"
      ]
     },
     "execution_count": 25,
     "metadata": {},
     "output_type": "execute_result"
    }
   ],
   "source": [
    "val solución = 240 / 5 / 12\n",
    "\n",
    "print(s\"Respuesta: ... $solución ...\")"
   ]
  },
  {
   "cell_type": "markdown",
   "metadata": {},
   "source": [
    "Comprueba tu solución: "
   ]
  },
  {
   "cell_type": "code",
   "execution_count": 26,
   "metadata": {},
   "outputs": [
    {
     "name": "stdout",
     "output_type": "stream",
     "text": [
      "¿De qué vas? Ese ejercicio no existe.\n"
     ]
    },
    {
     "data": {
      "text/plain": [
       "\u001b[36mres25_1\u001b[39m: \u001b[32mList\u001b[39m[\u001b[32mInt\u001b[39m] = \u001b[33mList\u001b[39m(\u001b[32m-93\u001b[39m, \u001b[32m33\u001b[39m, \u001b[32m-40\u001b[39m, \u001b[32m-76\u001b[39m, \u001b[32m5\u001b[39m, \u001b[32m-29\u001b[39m, \u001b[32m-17\u001b[39m, \u001b[32m38\u001b[39m, \u001b[32m4\u001b[39m, \u001b[32m-107\u001b[39m)"
      ]
     },
     "execution_count": 26,
     "metadata": {},
     "output_type": "execute_result"
    }
   ],
   "source": [
    "esCorrecta(solución, \"5b\")\n",
    "hash(solución)"
   ]
  },
  {
   "cell_type": "markdown",
   "metadata": {},
   "source": [
    "# EJERCICIO 6 "
   ]
  },
  {
   "cell_type": "markdown",
   "metadata": {},
   "source": [
    "Ana ha vendido 75 pares de calcetines por 300€. "
   ]
  },
  {
   "cell_type": "code",
   "execution_count": null,
   "metadata": {},
   "outputs": [],
   "source": [
    "val cantidad = 75\n",
    "val precio = 300"
   ]
  },
  {
   "cell_type": "markdown",
   "metadata": {},
   "source": [
    "¿Cuánto cuesta cada par de calcetines?"
   ]
  },
  {
   "cell_type": "code",
   "execution_count": null,
   "metadata": {},
   "outputs": [],
   "source": [
    "val solución = cantidad / precio\n",
    "\n",
    "print(s\"Respuesta: Cada par cuesta $solución €.\")"
   ]
  },
  {
   "cell_type": "markdown",
   "metadata": {},
   "source": [
    "Comprueba tu solución: "
   ]
  },
  {
   "cell_type": "code",
   "execution_count": null,
   "metadata": {},
   "outputs": [],
   "source": [
    "esCorrecta(solución, \"1b\")\n",
    "hash(solución)"
   ]
  },
  {
   "cell_type": "markdown",
   "metadata": {},
   "source": [
    "__Si la Sole se gastó en la tienda de Ana 200€ en calcetines, ¿cuántos calcetines sueltos (no pares) compró a Ana?__"
   ]
  },
  {
   "cell_type": "code",
   "execution_count": null,
   "metadata": {},
   "outputs": [],
   "source": [
    "val solución = ???\n",
    "\n",
    "print(s\"Respuesta: ... $solución ...\")"
   ]
  },
  {
   "cell_type": "markdown",
   "metadata": {},
   "source": [
    "Comprueba tu solución: "
   ]
  },
  {
   "cell_type": "code",
   "execution_count": null,
   "metadata": {},
   "outputs": [],
   "source": [
    "esCorrecta(solución, \"1b\")\n",
    "hash(solución)"
   ]
  },
  {
   "cell_type": "markdown",
   "metadata": {},
   "source": [
    "# EJERCICIO 7"
   ]
  },
  {
   "cell_type": "markdown",
   "metadata": {},
   "source": [
    "Ariadna y Ana trabajan de carteras. En una hora, Ariadna reparte 90 cartas, y Ana, 76. "
   ]
  },
  {
   "cell_type": "code",
   "execution_count": null,
   "metadata": {},
   "outputs": [],
   "source": [
    "val ariadna = 90\n",
    "val ana = 76"
   ]
  },
  {
   "cell_type": "markdown",
   "metadata": {},
   "source": [
    "¿Cuántas horas tardarán en repartir 830 cartas si trabajan juntas?"
   ]
  },
  {
   "cell_type": "code",
   "execution_count": null,
   "metadata": {},
   "outputs": [],
   "source": [
    "val solución = 830 / (ariadna + ana)\n",
    "\n",
    "print(s\"Respuesta: Tardarán $solución horas.\")"
   ]
  },
  {
   "cell_type": "markdown",
   "metadata": {},
   "source": [
    "Comprueba tu solución: "
   ]
  },
  {
   "cell_type": "code",
   "execution_count": null,
   "metadata": {},
   "outputs": [],
   "source": [
    "esCorrecta(solución, \"1b\")\n",
    "hash(solución)"
   ]
  },
  {
   "cell_type": "markdown",
   "metadata": {},
   "source": [
    "__Suponiendo que la jornada laboral sea de ocho horas al día, ...__"
   ]
  },
  {
   "cell_type": "code",
   "execution_count": null,
   "metadata": {},
   "outputs": [],
   "source": [
    "val jornada = 8"
   ]
  },
  {
   "cell_type": "markdown",
   "metadata": {},
   "source": [
    "__¿Cuántos días tardarán en repartir 3984 cartas?__"
   ]
  },
  {
   "cell_type": "code",
   "execution_count": null,
   "metadata": {},
   "outputs": [],
   "source": [
    "val solución = 3984 / (ariadna + ana) / jornada\n",
    "\n",
    "print(s\"Respuesta: Tardarán $solución días.\")"
   ]
  },
  {
   "cell_type": "markdown",
   "metadata": {},
   "source": [
    "Comprueba tu solución: "
   ]
  },
  {
   "cell_type": "code",
   "execution_count": null,
   "metadata": {},
   "outputs": [],
   "source": [
    "esCorrecta(solución, \"1b\")\n",
    "hash(solución)"
   ]
  },
  {
   "cell_type": "markdown",
   "metadata": {},
   "source": [
    "# EJERCICIO 8"
   ]
  },
  {
   "cell_type": "markdown",
   "metadata": {},
   "source": [
    "Si pagamos a 4€ la docena de espárragos ... "
   ]
  },
  {
   "cell_type": "code",
   "execution_count": null,
   "metadata": {},
   "outputs": [],
   "source": [
    "val precio = 4"
   ]
  },
  {
   "cell_type": "markdown",
   "metadata": {},
   "source": [
    "¿cuántas docenas de espárragos podemos comprar con 64€?"
   ]
  },
  {
   "cell_type": "code",
   "execution_count": null,
   "metadata": {},
   "outputs": [],
   "source": [
    "val solución = 64 / precio\n",
    "\n",
    "print(s\"Respuesta: Podemos comprar $solución docenas\")"
   ]
  },
  {
   "cell_type": "code",
   "execution_count": null,
   "metadata": {},
   "outputs": [],
   "source": [
    "esCorrecta(solución, \"1b\")\n",
    "hash(solución)"
   ]
  }
 ],
 "metadata": {
  "kernelspec": {
   "display_name": "Scala",
   "language": "scala",
   "name": "scala"
  },
  "language_info": {
   "codemirror_mode": "text/x-scala",
   "file_extension": ".scala",
   "mimetype": "text/x-scala",
   "name": "scala",
   "nbconvert_exporter": "script",
   "version": "2.13.0"
  }
 },
 "nbformat": 4,
 "nbformat_minor": 2
}
