{
 "cells": [
  {
   "cell_type": "code",
   "execution_count": 2,
   "metadata": {},
   "outputs": [
    {
     "data": {
      "text/plain": [
       "\u001b[32mimport \u001b[39m\u001b[36mjava.security._\n",
       "\u001b[39m\n",
       "\u001b[32mimport \u001b[39m\u001b[36mjava.nio.charset.StandardCharsets\n",
       "\n",
       "\u001b[39m"
      ]
     },
     "execution_count": 2,
     "metadata": {},
     "output_type": "execute_result"
    }
   ],
   "source": [
    "import java.security._\n",
    "import java.nio.charset.StandardCharsets\n",
    "\n"
   ]
  },
  {
   "cell_type": "code",
   "execution_count": 20,
   "metadata": {},
   "outputs": [
    {
     "data": {
      "text/plain": [
       "\u001b[36mmd\u001b[39m: \u001b[32mMessageDigest\u001b[39m = SHA-512 Message Digest from SUN, <initialized>\n",
       "\n",
       "defined \u001b[32mfunction\u001b[39m \u001b[36mhash\u001b[39m"
      ]
     },
     "execution_count": 20,
     "metadata": {},
     "output_type": "execute_result"
    }
   ],
   "source": [
    "// Password hash\n",
    "\n",
    "val md = MessageDigest.getInstance(\"SHA-512\")\n",
    "\n",
    "def hash(pwd: Any): List[Int] = \n",
    "    md.digest(pwd.toString.getBytes(StandardCharsets.UTF_8))\n",
    "        .take(10)\n",
    "        .map(_.toInt)\n",
    "        .toList\n"
   ]
  },
  {
   "cell_type": "code",
   "execution_count": 21,
   "metadata": {},
   "outputs": [
    {
     "data": {
      "text/plain": [
       "\u001b[36msoluciones\u001b[39m: \u001b[32mMap\u001b[39m[\u001b[32mInt\u001b[39m, \u001b[32mList\u001b[39m[\u001b[32mInt\u001b[39m]] = \u001b[33mMap\u001b[39m(\n",
       "  \u001b[32m1\u001b[39m -> \u001b[33mList\u001b[39m(\u001b[32m-19\u001b[39m, \u001b[32m-67\u001b[39m, \u001b[32m72\u001b[39m, \u001b[32m-56\u001b[39m, \u001b[32m54\u001b[39m, \u001b[32m-8\u001b[39m, \u001b[32m38\u001b[39m, \u001b[32m-75\u001b[39m, \u001b[32m-19\u001b[39m, \u001b[32m-115\u001b[39m)\n",
       ")"
      ]
     },
     "execution_count": 21,
     "metadata": {},
     "output_type": "execute_result"
    }
   ],
   "source": [
    "// Solutions\n",
    "\n",
    "val soluciones = Map(\n",
    "    1 -> List(-19, -67, 72, -56, 54, -8, 38, -75, -19, -115) )"
   ]
  },
  {
   "cell_type": "code",
   "execution_count": 22,
   "metadata": {},
   "outputs": [
    {
     "data": {
      "text/plain": [
       "defined \u001b[32mfunction\u001b[39m \u001b[36mesCorrecto\u001b[39m"
      ]
     },
     "execution_count": 22,
     "metadata": {},
     "output_type": "execute_result"
    }
   ],
   "source": [
    "def esCorrecto(ejercicio: Int, solucion: Int): Boolean = \n",
    "    soluciones(ejercicio) == hash(solucion)"
   ]
  },
  {
   "cell_type": "code",
   "execution_count": 23,
   "metadata": {},
   "outputs": [
    {
     "data": {
      "text/plain": [
       "\u001b[36mres22_0\u001b[39m: \u001b[32mList\u001b[39m[\u001b[32mInt\u001b[39m] = \u001b[33mList\u001b[39m(\u001b[32m-19\u001b[39m, \u001b[32m-67\u001b[39m, \u001b[32m72\u001b[39m, \u001b[32m-56\u001b[39m, \u001b[32m54\u001b[39m, \u001b[32m-8\u001b[39m, \u001b[32m38\u001b[39m, \u001b[32m-75\u001b[39m, \u001b[32m-19\u001b[39m, \u001b[32m-115\u001b[39m)\n",
       "\u001b[36mres22_1\u001b[39m: \u001b[32mBoolean\u001b[39m = true"
      ]
     },
     "execution_count": 23,
     "metadata": {},
     "output_type": "execute_result"
    }
   ],
   "source": [
    "hash(28)\n",
    "esCorrecto(1, 28)"
   ]
  },
  {
   "cell_type": "code",
   "execution_count": null,
   "metadata": {},
   "outputs": [],
   "source": []
  }
 ],
 "metadata": {
  "kernelspec": {
   "display_name": "Scala",
   "language": "scala",
   "name": "scala"
  },
  "language_info": {
   "codemirror_mode": "text/x-scala",
   "file_extension": ".scala",
   "mimetype": "text/x-scala",
   "name": "scala",
   "nbconvert_exporter": "script",
   "version": "2.13.0"
  }
 },
 "nbformat": 4,
 "nbformat_minor": 2
}
