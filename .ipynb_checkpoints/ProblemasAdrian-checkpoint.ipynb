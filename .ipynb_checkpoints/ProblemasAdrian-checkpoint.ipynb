{
 "cells": [
  {
   "cell_type": "code",
   "execution_count": 1,
   "metadata": {},
   "outputs": [
    {
     "name": "stdout",
     "output_type": "stream",
     "text": [
      "Compiling /Users/jserrano/Documents/PyjamaParty/soluciones.sc"
     ]
    },
    {
     "data": {
      "text/plain": [
       "\u001b[32mimport \u001b[39m\u001b[36m$file.$         , soluciones._\u001b[39m"
      ]
     },
     "execution_count": 1,
     "metadata": {},
     "output_type": "execute_result"
    }
   ],
   "source": [
    "import $file.soluciones, soluciones._"
   ]
  },
  {
   "cell_type": "markdown",
   "metadata": {},
   "source": [
    "# OBJETIVOS\n",
    "\n",
    "- Introducirnos en el mundo de la programación mediante la resolución de ejercicios matemáticos.\n",
    "\n",
    "- Entender el concepto de __variable__ y su utilidad.\n",
    "\n",
    "- Hacer nuestros primeros programas con el lenguaje de programación Scala."
   ]
  },
  {
   "cell_type": "markdown",
   "metadata": {},
   "source": [
    "# INSTRUCCIONES\n",
    "\n",
    "1 - Resuelve los siguientes ejercicios de programación siguiendo los siguientes pasos:\n",
    "\n",
    "  - Reemplaza las interrogaciones por los valores y las expresiones aritméticas que creas conveniente.\n",
    "  - Selecciona las celdas de código que quieras ejecutar y haz click en `Run`.\n",
    "  - Comprueba tus soluciones ejecutando las celdas `esCorrecta(solución, ...)`. Antes de ello, habrás tenido que ejecutar (una sola vez) la primera celda de este fichero.\n",
    "\n",
    "2 - Graba tus cambios:\n",
    "  - `File -> Download as -> Notebook (.ipynb)`.\n",
    "\n",
    "3 - Carga los ficheros con tus cambios mediante las siguientes acciones: \n",
    "  - `File -> Open`\n",
    "  - Pincha en `Upload` y selecciona el fichero donde guardaste tus cambios. \n",
    "  - Confirma `Overrite` en caso de que el fichero ya exista.\n",
    "  - Haz click en el fichero. "
   ]
  },
  {
   "cell_type": "markdown",
   "metadata": {},
   "source": [
    "# EJERCICIO 1"
   ]
  },
  {
   "cell_type": "markdown",
   "metadata": {},
   "source": [
    "En un cine hay 392 butacas. Si hay 14 butacas por fila ... "
   ]
  },
  {
   "cell_type": "code",
   "execution_count": 2,
   "metadata": {
    "tags": [
     "hide_output",
     "raises-exception"
    ]
   },
   "outputs": [
    {
     "data": {
      "text/plain": [
       "\u001b[36mbutacas\u001b[39m: \u001b[32mInt\u001b[39m = \u001b[32m392\u001b[39m\n",
       "\u001b[36mbutacas_por_fila\u001b[39m: \u001b[32mInt\u001b[39m = \u001b[32m14\u001b[39m"
      ]
     },
     "execution_count": 2,
     "metadata": {},
     "output_type": "execute_result"
    }
   ],
   "source": [
    "val butacas = 392\n",
    "val butacas_por_fila = 14"
   ]
  },
  {
   "cell_type": "markdown",
   "metadata": {},
   "source": [
    "¿cuántas filas hay en el cine?"
   ]
  },
  {
   "cell_type": "code",
   "execution_count": 3,
   "metadata": {
    "tags": [
     "raises-exception"
    ]
   },
   "outputs": [
    {
     "name": "stdout",
     "output_type": "stream",
     "text": [
      "Respuesta: Tiene 28 filas"
     ]
    },
    {
     "data": {
      "text/plain": [
       "\u001b[36msolución\u001b[39m: \u001b[32mInt\u001b[39m = \u001b[32m28\u001b[39m"
      ]
     },
     "execution_count": 3,
     "metadata": {},
     "output_type": "execute_result"
    }
   ],
   "source": [
    "val solución = butacas / butacas_por_fila\n",
    "\n",
    "print(s\"Respuesta: Tiene $solución filas\")"
   ]
  },
  {
   "cell_type": "markdown",
   "metadata": {},
   "source": [
    "Comprueba tu solución: "
   ]
  },
  {
   "cell_type": "code",
   "execution_count": 4,
   "metadata": {},
   "outputs": [
    {
     "name": "stdout",
     "output_type": "stream",
     "text": [
      "Enhorabuena, moñas, es correcto.\n"
     ]
    }
   ],
   "source": [
    "esCorrecta(solución , \"1a\" )"
   ]
  },
  {
   "cell_type": "markdown",
   "metadata": {},
   "source": [
    "# EJERCICIO 2 \n",
    "\n",
    "\n",
    "Berta tiene 32 libros."
   ]
  },
  {
   "cell_type": "code",
   "execution_count": 5,
   "metadata": {},
   "outputs": [
    {
     "data": {
      "text/plain": [
       "\u001b[36mlibros\u001b[39m: \u001b[32mInt\u001b[39m = \u001b[32m32\u001b[39m"
      ]
     },
     "execution_count": 5,
     "metadata": {},
     "output_type": "execute_result"
    }
   ],
   "source": [
    "val libros = 32"
   ]
  },
  {
   "cell_type": "markdown",
   "metadata": {},
   "source": [
    "Si le dan una cantidad 5 veces mayor. ¿Cuántos libros tendrá ahora Berta? \n"
   ]
  },
  {
   "cell_type": "code",
   "execution_count": 6,
   "metadata": {},
   "outputs": [
    {
     "name": "stdout",
     "output_type": "stream",
     "text": [
      "Respuesta: Tendrá 192 libros"
     ]
    },
    {
     "data": {
      "text/plain": [
       "\u001b[36msolución\u001b[39m: \u001b[32mInt\u001b[39m = \u001b[32m192\u001b[39m"
      ]
     },
     "execution_count": 6,
     "metadata": {},
     "output_type": "execute_result"
    }
   ],
   "source": [
    "val solución = libros * 5 + libros\n",
    "\n",
    "print(s\"Respuesta: Tendrá $solución libros\")"
   ]
  },
  {
   "cell_type": "markdown",
   "metadata": {},
   "source": [
    "Comprueba tu solución: "
   ]
  },
  {
   "cell_type": "code",
   "execution_count": 7,
   "metadata": {},
   "outputs": [
    {
     "name": "stdout",
     "output_type": "stream",
     "text": [
      "Enhorabuena, moñas, es correcto.\n"
     ]
    }
   ],
   "source": [
    "esCorrecta(solución, \"2a\")"
   ]
  },
  {
   "cell_type": "markdown",
   "metadata": {},
   "source": [
    "__Si a la cantidad original le quitaran una cuarta parte, ¿cuántos libros le quedarían?__"
   ]
  },
  {
   "cell_type": "code",
   "execution_count": 8,
   "metadata": {},
   "outputs": [
    {
     "name": "stdout",
     "output_type": "stream",
     "text": [
      "Respuesta: ... 24 ..."
     ]
    },
    {
     "data": {
      "text/plain": [
       "\u001b[36msolución\u001b[39m: \u001b[32mInt\u001b[39m = \u001b[32m24\u001b[39m"
      ]
     },
     "execution_count": 8,
     "metadata": {},
     "output_type": "execute_result"
    }
   ],
   "source": [
    "val solución = libros - libros / 4\n",
    "\n",
    "print(s\"Respuesta: ... $solución ...\")"
   ]
  },
  {
   "cell_type": "markdown",
   "metadata": {},
   "source": [
    "Comprueba tu solución: "
   ]
  },
  {
   "cell_type": "code",
   "execution_count": 9,
   "metadata": {},
   "outputs": [
    {
     "name": "stdout",
     "output_type": "stream",
     "text": [
      "Enhorabuena, moñas, es correcto.\n"
     ]
    }
   ],
   "source": [
    "esCorrecta(solución, \"2b\")"
   ]
  },
  {
   "cell_type": "markdown",
   "metadata": {},
   "source": [
    "# EJERCICIO 3"
   ]
  },
  {
   "cell_type": "markdown",
   "metadata": {},
   "source": [
    "Un embalse tiene una capacidad de un millón de metros cúbicos. Ahora tiene 150000 ... "
   ]
  },
  {
   "cell_type": "code",
   "execution_count": 10,
   "metadata": {},
   "outputs": [
    {
     "data": {
      "text/plain": [
       "\u001b[36mcapacidad\u001b[39m: \u001b[32mInt\u001b[39m = \u001b[32m1000000\u001b[39m\n",
       "\u001b[36mactual\u001b[39m: \u001b[32mInt\u001b[39m = \u001b[32m150000\u001b[39m"
      ]
     },
     "execution_count": 10,
     "metadata": {},
     "output_type": "execute_result"
    }
   ],
   "source": [
    "val capacidad = 1000000\n",
    "val actual = 150000"
   ]
  },
  {
   "cell_type": "markdown",
   "metadata": {},
   "source": [
    "..., y gana, en dos veces, 75000 m3 y 50000 m3, respectivamente. ¿Cuántos metros cúbicos faltan para que el embalse esté a su máxima capacidad?"
   ]
  },
  {
   "cell_type": "code",
   "execution_count": 11,
   "metadata": {},
   "outputs": [
    {
     "name": "stdout",
     "output_type": "stream",
     "text": [
      "Respuesta: Faltan 725000 m3"
     ]
    },
    {
     "data": {
      "text/plain": [
       "\u001b[36msolución\u001b[39m: \u001b[32mInt\u001b[39m = \u001b[32m725000\u001b[39m"
      ]
     },
     "execution_count": 11,
     "metadata": {},
     "output_type": "execute_result"
    }
   ],
   "source": [
    "val solución =  1000000 - (75000 + 50000 + 150000)\n",
    "\n",
    "print(s\"Respuesta: Faltan $solución m3\")"
   ]
  },
  {
   "cell_type": "markdown",
   "metadata": {},
   "source": [
    "Comprueba tu solución: "
   ]
  },
  {
   "cell_type": "code",
   "execution_count": 12,
   "metadata": {},
   "outputs": [
    {
     "name": "stdout",
     "output_type": "stream",
     "text": [
      "Enhorabuena, moñas, es correcto.\n"
     ]
    }
   ],
   "source": [
    "esCorrecta(solución, \"3a\")"
   ]
  },
  {
   "cell_type": "markdown",
   "metadata": {},
   "source": [
    "__Sin en lugar de ganar, perdiera cada día 30000 m3, ¿cuántos días tardaría en vaciarse?__"
   ]
  },
  {
   "cell_type": "code",
   "execution_count": 13,
   "metadata": {},
   "outputs": [
    {
     "name": "stdout",
     "output_type": "stream",
     "text": [
      "Respuesta: ... 5 ..."
     ]
    },
    {
     "data": {
      "text/plain": [
       "\u001b[36msolución\u001b[39m: \u001b[32mInt\u001b[39m = \u001b[32m5\u001b[39m"
      ]
     },
     "execution_count": 13,
     "metadata": {},
     "output_type": "execute_result"
    }
   ],
   "source": [
    "val solución = 150000 / 30000\n",
    "\n",
    "print(s\"Respuesta: ... $solución ...\")"
   ]
  },
  {
   "cell_type": "markdown",
   "metadata": {},
   "source": [
    "Comprueba tu solución: "
   ]
  },
  {
   "cell_type": "code",
   "execution_count": 14,
   "metadata": {},
   "outputs": [
    {
     "name": "stdout",
     "output_type": "stream",
     "text": [
      "Enhorabuena, moñas, es correcto.\n"
     ]
    }
   ],
   "source": [
    "esCorrecta(solución, \"3b\")"
   ]
  },
  {
   "cell_type": "markdown",
   "metadata": {},
   "source": [
    "# EJERCICIO 4"
   ]
  },
  {
   "cell_type": "markdown",
   "metadata": {},
   "source": [
    "Raquel se prepara para participar en una carrera. Cada mañana corre 24 km y cada tarde corre 15 km. "
   ]
  },
  {
   "cell_type": "code",
   "execution_count": 15,
   "metadata": {},
   "outputs": [
    {
     "data": {
      "text/plain": [
       "\u001b[36mmañana\u001b[39m: \u001b[32mInt\u001b[39m = \u001b[32m24\u001b[39m\n",
       "\u001b[36mtarde\u001b[39m: \u001b[32mInt\u001b[39m = \u001b[32m15\u001b[39m"
      ]
     },
     "execution_count": 15,
     "metadata": {},
     "output_type": "execute_result"
    }
   ],
   "source": [
    "val mañana = 24\n",
    "val tarde = 15"
   ]
  },
  {
   "cell_type": "markdown",
   "metadata": {},
   "source": [
    "¿Cuántos kilómetros corre Raquel en 12 días?"
   ]
  },
  {
   "cell_type": "code",
   "execution_count": 17,
   "metadata": {},
   "outputs": [
    {
     "data": {
      "text/plain": [
       "\u001b[36msolución\u001b[39m: \u001b[32mInt\u001b[39m = \u001b[32m468\u001b[39m"
      ]
     },
     "execution_count": 17,
     "metadata": {},
     "output_type": "execute_result"
    }
   ],
   "source": [
    "val solución = (24 + 15) * 12"
   ]
  },
  {
   "cell_type": "code",
   "execution_count": null,
   "metadata": {},
   "outputs": [],
   "source": [
    "print(s\"Respuesta: En 12 días corre $solución km.\")"
   ]
  },
  {
   "cell_type": "markdown",
   "metadata": {},
   "source": [
    "Comprueba tu solución: "
   ]
  },
  {
   "cell_type": "code",
   "execution_count": 18,
   "metadata": {},
   "outputs": [
    {
     "name": "stdout",
     "output_type": "stream",
     "text": [
      "Enhorabuena, moñas, es correcto.\n"
     ]
    }
   ],
   "source": [
    "esCorrecta(solución, \"4a\")"
   ]
  },
  {
   "cell_type": "markdown",
   "metadata": {},
   "source": [
    "__¿Cuántos días tardaría en dar la vuelta al mundo a ese ritmo? Búscate la vida para encontrar cuántos kilómetros hay que recorrer para dar la vuelta al mundo siguiendo la línea del Ecuador.__"
   ]
  },
  {
   "cell_type": "code",
   "execution_count": 19,
   "metadata": {},
   "outputs": [
    {
     "name": "stdout",
     "output_type": "stream",
     "text": [
      "Respuesta: ... 1027 ..."
     ]
    },
    {
     "data": {
      "text/plain": [
       "\u001b[36msolución\u001b[39m: \u001b[32mInt\u001b[39m = \u001b[32m1027\u001b[39m"
      ]
     },
     "execution_count": 19,
     "metadata": {},
     "output_type": "execute_result"
    }
   ],
   "source": [
    "val solución = 40075 / (mañana + tarde)\n",
    "\n",
    "print(s\"Respuesta: ... $solución ...\")"
   ]
  },
  {
   "cell_type": "markdown",
   "metadata": {},
   "source": [
    "Comprueba tu solución: "
   ]
  },
  {
   "cell_type": "code",
   "execution_count": 20,
   "metadata": {},
   "outputs": [
    {
     "name": "stdout",
     "output_type": "stream",
     "text": [
      "Enhorabuena, moñas, es correcto.\n"
     ]
    }
   ],
   "source": [
    "esCorrecta(solución, \"4b\")"
   ]
  },
  {
   "cell_type": "markdown",
   "metadata": {},
   "source": [
    "# EJERCICIO 5"
   ]
  },
  {
   "cell_type": "markdown",
   "metadata": {},
   "source": [
    "El precio de una revista son 6€, ... "
   ]
  },
  {
   "cell_type": "code",
   "execution_count": 21,
   "metadata": {},
   "outputs": [
    {
     "data": {
      "text/plain": [
       "\u001b[36mprecio_por_revista\u001b[39m: \u001b[32mInt\u001b[39m = \u001b[32m6\u001b[39m"
      ]
     },
     "execution_count": 21,
     "metadata": {},
     "output_type": "execute_result"
    }
   ],
   "source": [
    "val precio_por_revista = 6 "
   ]
  },
  {
   "cell_type": "markdown",
   "metadata": {},
   "source": [
    "¿Cuánto cuestan 6 docenas de revistas?"
   ]
  },
  {
   "cell_type": "code",
   "execution_count": 26,
   "metadata": {},
   "outputs": [
    {
     "name": "stdout",
     "output_type": "stream",
     "text": [
      "Respuesta: Las 6 docenas cuestan 432 €"
     ]
    },
    {
     "data": {
      "text/plain": [
       "\u001b[36msolución\u001b[39m: \u001b[32mInt\u001b[39m = \u001b[32m432\u001b[39m"
      ]
     },
     "execution_count": 26,
     "metadata": {},
     "output_type": "execute_result"
    }
   ],
   "source": [
    "val solución = (6 * 12) * precio_por_revista\n",
    "\n",
    "print(s\"Respuesta: Las 6 docenas cuestan $solución €\")"
   ]
  },
  {
   "cell_type": "markdown",
   "metadata": {},
   "source": [
    "Comprueba tu solución: "
   ]
  },
  {
   "cell_type": "code",
   "execution_count": 27,
   "metadata": {},
   "outputs": [
    {
     "name": "stdout",
     "output_type": "stream",
     "text": [
      "Enhorabuena, moñas, es correcto.\n"
     ]
    }
   ],
   "source": [
    "esCorrecta(solución, \"5a\")"
   ]
  },
  {
   "cell_type": "markdown",
   "metadata": {},
   "source": [
    "__En lugar de comprar las revistas sueltas, el Eduardito está considerando la opción de suscribirse a la revista. Sabiendo que la anualidad de la suscripción son 240€, ¿cuántos ejemplares al mes recibirá si el precio por revista le sale en esta modalidad a 5€?__"
   ]
  },
  {
   "cell_type": "code",
   "execution_count": 28,
   "metadata": {},
   "outputs": [
    {
     "name": "stdout",
     "output_type": "stream",
     "text": [
      "Respuesta: ... 4 ..."
     ]
    },
    {
     "data": {
      "text/plain": [
       "\u001b[36msolución\u001b[39m: \u001b[32mInt\u001b[39m = \u001b[32m4\u001b[39m"
      ]
     },
     "execution_count": 28,
     "metadata": {},
     "output_type": "execute_result"
    }
   ],
   "source": [
    "val solución = (240 / 5) / 12\n",
    "\n",
    "print(s\"Respuesta: ... $solución ...\")"
   ]
  },
  {
   "cell_type": "markdown",
   "metadata": {},
   "source": [
    "Comprueba tu solución: "
   ]
  },
  {
   "cell_type": "code",
   "execution_count": 29,
   "metadata": {},
   "outputs": [
    {
     "name": "stdout",
     "output_type": "stream",
     "text": [
      "Enhorabuena, moñas, es correcto.\n"
     ]
    }
   ],
   "source": [
    "esCorrecta(solución, \"5b\")"
   ]
  },
  {
   "cell_type": "markdown",
   "metadata": {},
   "source": [
    "# EJERCICIO 6 "
   ]
  },
  {
   "cell_type": "markdown",
   "metadata": {},
   "source": [
    "Ana ha vendido 75 pares de calcetines por 300€. "
   ]
  },
  {
   "cell_type": "code",
   "execution_count": 30,
   "metadata": {},
   "outputs": [
    {
     "data": {
      "text/plain": [
       "\u001b[36mcantidad\u001b[39m: \u001b[32mInt\u001b[39m = \u001b[32m75\u001b[39m\n",
       "\u001b[36mcoste\u001b[39m: \u001b[32mInt\u001b[39m = \u001b[32m300\u001b[39m"
      ]
     },
     "execution_count": 30,
     "metadata": {},
     "output_type": "execute_result"
    }
   ],
   "source": [
    "val cantidad = 75 \n",
    "val coste = 300"
   ]
  },
  {
   "cell_type": "markdown",
   "metadata": {},
   "source": [
    "¿Cuánto cuesta cada par de calcetines?"
   ]
  },
  {
   "cell_type": "code",
   "execution_count": 31,
   "metadata": {},
   "outputs": [
    {
     "name": "stdout",
     "output_type": "stream",
     "text": [
      "Respuesta: Cada par cuesta 4 €."
     ]
    },
    {
     "data": {
      "text/plain": [
       "\u001b[36msolución\u001b[39m: \u001b[32mInt\u001b[39m = \u001b[32m4\u001b[39m"
      ]
     },
     "execution_count": 31,
     "metadata": {},
     "output_type": "execute_result"
    }
   ],
   "source": [
    "val solución = coste / cantidad\n",
    "\n",
    "print(s\"Respuesta: Cada par cuesta $solución €.\")"
   ]
  },
  {
   "cell_type": "markdown",
   "metadata": {},
   "source": [
    "Comprueba tu solución: "
   ]
  },
  {
   "cell_type": "code",
   "execution_count": 32,
   "metadata": {},
   "outputs": [
    {
     "name": "stdout",
     "output_type": "stream",
     "text": [
      "Enhorabuena, moñas, es correcto.\n"
     ]
    }
   ],
   "source": [
    "esCorrecta(solución, \"6a\")"
   ]
  },
  {
   "cell_type": "markdown",
   "metadata": {},
   "source": [
    "__Si la Sole se gastó en la tienda de Ana 200€ en calcetines, ¿cuántos calcetines sueltos (no pares) compró a Ana?__"
   ]
  },
  {
   "cell_type": "code",
   "execution_count": 33,
   "metadata": {},
   "outputs": [
    {
     "name": "stdout",
     "output_type": "stream",
     "text": [
      "Respuesta: ... 100 ..."
     ]
    },
    {
     "data": {
      "text/plain": [
       "\u001b[36mprecio_par\u001b[39m: \u001b[32mInt\u001b[39m = \u001b[32m4\u001b[39m\n",
       "\u001b[36msolución\u001b[39m: \u001b[32mInt\u001b[39m = \u001b[32m100\u001b[39m"
      ]
     },
     "execution_count": 33,
     "metadata": {},
     "output_type": "execute_result"
    }
   ],
   "source": [
    "val precio_par = 4\n",
    "val solución = 200 / 2\n",
    "\n",
    "print(s\"Respuesta: ... $solución ...\")"
   ]
  },
  {
   "cell_type": "markdown",
   "metadata": {},
   "source": [
    "Comprueba tu solución: "
   ]
  },
  {
   "cell_type": "code",
   "execution_count": 34,
   "metadata": {},
   "outputs": [
    {
     "name": "stdout",
     "output_type": "stream",
     "text": [
      "Enhorabuena, moñas, es correcto.\n"
     ]
    }
   ],
   "source": [
    "esCorrecta(solución, \"6b\")"
   ]
  },
  {
   "cell_type": "markdown",
   "metadata": {},
   "source": [
    "# EJERCICIO 7"
   ]
  },
  {
   "cell_type": "markdown",
   "metadata": {},
   "source": [
    "Ariadna y Ana trabajan de carteras. En una hora, Ariadna reparte 90 cartas, y Ana, 76. "
   ]
  },
  {
   "cell_type": "code",
   "execution_count": 35,
   "metadata": {},
   "outputs": [
    {
     "data": {
      "text/plain": [
       "\u001b[36mariadna\u001b[39m: \u001b[32mInt\u001b[39m = \u001b[32m90\u001b[39m\n",
       "\u001b[36mana\u001b[39m: \u001b[32mInt\u001b[39m = \u001b[32m76\u001b[39m"
      ]
     },
     "execution_count": 35,
     "metadata": {},
     "output_type": "execute_result"
    }
   ],
   "source": [
    "val ariadna = 90\n",
    "val ana = 76"
   ]
  },
  {
   "cell_type": "markdown",
   "metadata": {},
   "source": [
    "¿Cuántas horas tardarán en repartir 830 cartas si trabajan juntas?"
   ]
  },
  {
   "cell_type": "code",
   "execution_count": 36,
   "metadata": {},
   "outputs": [
    {
     "name": "stdout",
     "output_type": "stream",
     "text": [
      "Respuesta: Tardarán 5 horas."
     ]
    },
    {
     "data": {
      "text/plain": [
       "\u001b[36msolución\u001b[39m: \u001b[32mInt\u001b[39m = \u001b[32m5\u001b[39m"
      ]
     },
     "execution_count": 36,
     "metadata": {},
     "output_type": "execute_result"
    }
   ],
   "source": [
    "val solución = 830 / (ariadna + ana)\n",
    "\n",
    "print(s\"Respuesta: Tardarán $solución horas.\")"
   ]
  },
  {
   "cell_type": "markdown",
   "metadata": {},
   "source": [
    "Comprueba tu solución: "
   ]
  },
  {
   "cell_type": "code",
   "execution_count": 37,
   "metadata": {},
   "outputs": [
    {
     "name": "stdout",
     "output_type": "stream",
     "text": [
      "Enhorabuena, moñas, es correcto.\n"
     ]
    }
   ],
   "source": [
    "esCorrecta(solución, \"7a\")"
   ]
  },
  {
   "cell_type": "markdown",
   "metadata": {},
   "source": [
    "__Suponiendo que la jornada laboral sea de ocho horas al día, ...__"
   ]
  },
  {
   "cell_type": "code",
   "execution_count": 38,
   "metadata": {},
   "outputs": [
    {
     "data": {
      "text/plain": [
       "\u001b[36mjornada\u001b[39m: \u001b[32mInt\u001b[39m = \u001b[32m8\u001b[39m"
      ]
     },
     "execution_count": 38,
     "metadata": {},
     "output_type": "execute_result"
    }
   ],
   "source": [
    "val jornada = 8 "
   ]
  },
  {
   "cell_type": "markdown",
   "metadata": {},
   "source": [
    "__¿Cuántos días tardarán en repartir 3984 cartas?__"
   ]
  },
  {
   "cell_type": "code",
   "execution_count": 39,
   "metadata": {},
   "outputs": [
    {
     "name": "stdout",
     "output_type": "stream",
     "text": [
      "Respuesta: Tardarán 3 días."
     ]
    },
    {
     "data": {
      "text/plain": [
       "\u001b[36msolución\u001b[39m: \u001b[32mInt\u001b[39m = \u001b[32m3\u001b[39m"
      ]
     },
     "execution_count": 39,
     "metadata": {},
     "output_type": "execute_result"
    }
   ],
   "source": [
    "val solución = 3984 / (jornada * (ariadna + ana))\n",
    "\n",
    "print(s\"Respuesta: Tardarán $solución días.\")"
   ]
  },
  {
   "cell_type": "markdown",
   "metadata": {},
   "source": [
    "Comprueba tu solución: "
   ]
  },
  {
   "cell_type": "code",
   "execution_count": 40,
   "metadata": {},
   "outputs": [
    {
     "name": "stdout",
     "output_type": "stream",
     "text": [
      "Enhorabuena, moñas, es correcto.\n"
     ]
    }
   ],
   "source": [
    "esCorrecta(solución, \"7b\")"
   ]
  },
  {
   "cell_type": "markdown",
   "metadata": {},
   "source": [
    "# EJERCICIO 8"
   ]
  },
  {
   "cell_type": "markdown",
   "metadata": {},
   "source": [
    "Si pagamos a 4€ la docena de espárragos ... "
   ]
  },
  {
   "cell_type": "code",
   "execution_count": 41,
   "metadata": {},
   "outputs": [
    {
     "data": {
      "text/plain": [
       "\u001b[36mprecio\u001b[39m: \u001b[32mInt\u001b[39m = \u001b[32m4\u001b[39m"
      ]
     },
     "execution_count": 41,
     "metadata": {},
     "output_type": "execute_result"
    }
   ],
   "source": [
    "val precio = 4"
   ]
  },
  {
   "cell_type": "markdown",
   "metadata": {},
   "source": [
    "¿cuántas docenas de espárragos podemos comprar con 64€?"
   ]
  },
  {
   "cell_type": "code",
   "execution_count": 42,
   "metadata": {},
   "outputs": [
    {
     "name": "stdout",
     "output_type": "stream",
     "text": [
      "Respuesta: Podemos comprar 16 docenas"
     ]
    },
    {
     "data": {
      "text/plain": [
       "\u001b[36msolución\u001b[39m: \u001b[32mInt\u001b[39m = \u001b[32m16\u001b[39m"
      ]
     },
     "execution_count": 42,
     "metadata": {},
     "output_type": "execute_result"
    }
   ],
   "source": [
    "val solución = 64 / precio\n",
    "\n",
    "print(s\"Respuesta: Podemos comprar $solución docenas\")"
   ]
  },
  {
   "cell_type": "code",
   "execution_count": 43,
   "metadata": {},
   "outputs": [
    {
     "name": "stdout",
     "output_type": "stream",
     "text": [
      "Enhorabuena, moñas, es correcto.\n"
     ]
    }
   ],
   "source": [
    "esCorrecta(solución, \"8a\")"
   ]
  },
  {
   "cell_type": "code",
   "execution_count": null,
   "metadata": {},
   "outputs": [],
   "source": []
  },
  {
   "cell_type": "code",
   "execution_count": null,
   "metadata": {},
   "outputs": [],
   "source": []
  }
 ],
 "metadata": {
  "kernelspec": {
   "display_name": "Scala (2.11)",
   "language": "scala",
   "name": "scala211"
  },
  "language_info": {
   "codemirror_mode": "text/x-scala",
   "file_extension": ".scala",
   "mimetype": "text/x-scala",
   "name": "scala",
   "nbconvert_exporter": "script",
   "version": "2.11.12"
  }
 },
 "nbformat": 4,
 "nbformat_minor": 2
}
