{
 "cells": [
  {
   "cell_type": "code",
   "execution_count": 70,
   "metadata": {},
   "outputs": [
    {
     "name": "stdout",
     "output_type": "stream",
     "text": [
      "Compiling /Users/jserrano/Documents/PyjamaParty/soluciones.sc"
     ]
    },
    {
     "data": {
      "text/plain": [
       "\u001b[32mimport \u001b[39m\u001b[36m$file.$         \u001b[39m"
      ]
     },
     "execution_count": 70,
     "metadata": {},
     "output_type": "execute_result"
    }
   ],
   "source": [
    "import $file.soluciones, soluciones._"
   ]
  },
  {
   "cell_type": "markdown",
   "metadata": {},
   "source": [
    "# EJERCICIO 1"
   ]
  },
  {
   "cell_type": "markdown",
   "metadata": {},
   "source": [
    "En un cine hay 392 butacas. Si hay 14 butacas por fila ... "
   ]
  },
  {
   "cell_type": "code",
   "execution_count": 26,
   "metadata": {},
   "outputs": [
    {
     "data": {
      "text/plain": [
       "\u001b[36mbutacas\u001b[39m: \u001b[32mInt\u001b[39m = \u001b[32m392\u001b[39m\n",
       "\u001b[36mbutacas_por_fila\u001b[39m: \u001b[32mInt\u001b[39m = \u001b[32m14\u001b[39m"
      ]
     },
     "execution_count": 26,
     "metadata": {},
     "output_type": "execute_result"
    }
   ],
   "source": [
    "val butacas = 392\n",
    "val butacas_por_fila = 14"
   ]
  },
  {
   "cell_type": "markdown",
   "metadata": {},
   "source": [
    "... ¿cuántas filas hay en el cine?"
   ]
  },
  {
   "cell_type": "code",
   "execution_count": 65,
   "metadata": {},
   "outputs": [
    {
     "name": "stdout",
     "output_type": "stream",
     "text": [
      "Respuesta: Tiene 28 filas"
     ]
    },
    {
     "data": {
      "text/plain": [
       "\u001b[36msolución\u001b[39m: \u001b[32mInt\u001b[39m = \u001b[32m28\u001b[39m"
      ]
     },
     "execution_count": 65,
     "metadata": {},
     "output_type": "execute_result"
    }
   ],
   "source": [
    "val solución = butacas / butacas_por_fila\n",
    "\n",
    "print(s\"Respuesta: Tiene $solucion filas\")"
   ]
  },
  {
   "cell_type": "code",
   "execution_count": 70,
   "metadata": {},
   "outputs": [
    {
     "name": "stderr",
     "output_type": "stream",
     "text": [
      "cmd70.sc:1: not found: value esCorrecto\n",
      "val res70 = esCorrecto(solución)\n",
      "            ^Compilation Failed"
     ]
    },
    {
     "ename": "",
     "evalue": "",
     "output_type": "error",
     "traceback": [
      "Compilation Failed"
     ]
    }
   ],
   "source": [
    "esCorrecto(solución)"
   ]
  },
  {
   "cell_type": "markdown",
   "metadata": {},
   "source": [
    "__Si hubiera 28 filas en el cine, ¿cuántas columnas habría?__"
   ]
  },
  {
   "cell_type": "code",
   "execution_count": 66,
   "metadata": {},
   "outputs": [
    {
     "ename": "",
     "evalue": "",
     "output_type": "error",
     "traceback": [
      "\u001b[31mscala.NotImplementedError: an implementation is missing\u001b[39m\n  scala.Predef$.$qmark$qmark$qmark(\u001b[32mPredef.scala\u001b[39m:\u001b[32m347\u001b[39m)\n  ammonite.$sess.cmd65$Helper.<init>(\u001b[32mcmd65.sc\u001b[39m:\u001b[32m1\u001b[39m)\n  ammonite.$sess.cmd65$.<clinit>(\u001b[32mcmd65.sc\u001b[39m:\u001b[32m7\u001b[39m)"
     ]
    }
   ],
   "source": [
    "val solución = ???\n",
    "\n",
    "print(s\"Respuesta: ... $solución ...\")"
   ]
  },
  {
   "cell_type": "markdown",
   "metadata": {},
   "source": [
    "# EJERCICIO 2 \n",
    "\n",
    "\n",
    "Berta tiene 32 libros."
   ]
  },
  {
   "cell_type": "code",
   "execution_count": 20,
   "metadata": {},
   "outputs": [
    {
     "data": {
      "text/plain": [
       "\u001b[36mlibros\u001b[39m: \u001b[32mInt\u001b[39m = \u001b[32m32\u001b[39m"
      ]
     },
     "execution_count": 20,
     "metadata": {},
     "output_type": "execute_result"
    }
   ],
   "source": [
    "val libros = 32"
   ]
  },
  {
   "cell_type": "markdown",
   "metadata": {},
   "source": [
    "Si le dan una cantidad 5 veces mayor. ¿Cuántos libros tendrá ahora Berta? \n"
   ]
  },
  {
   "cell_type": "code",
   "execution_count": 44,
   "metadata": {},
   "outputs": [
    {
     "name": "stdout",
     "output_type": "stream",
     "text": [
      "Respuesta: Tendrá 192 libros"
     ]
    },
    {
     "data": {
      "text/plain": [
       "\u001b[36msolución\u001b[39m: \u001b[32mInt\u001b[39m = \u001b[32m192\u001b[39m"
      ]
     },
     "execution_count": 44,
     "metadata": {},
     "output_type": "execute_result"
    }
   ],
   "source": [
    "val solución = libros + 5 * libros\n",
    "\n",
    "print(s\"Respuesta: Tendrá $solución libros\")"
   ]
  },
  {
   "cell_type": "markdown",
   "metadata": {},
   "source": [
    "__Si a la cantidad origianl le quitaran una cuarta parte, ¿cuántos libros le quedarían?__"
   ]
  },
  {
   "cell_type": "code",
   "execution_count": 64,
   "metadata": {},
   "outputs": [
    {
     "ename": "",
     "evalue": "",
     "output_type": "error",
     "traceback": [
      "\u001b[31mscala.NotImplementedError: an implementation is missing\u001b[39m\n  scala.Predef$.$qmark$qmark$qmark(\u001b[32mPredef.scala\u001b[39m:\u001b[32m347\u001b[39m)\n  ammonite.$sess.cmd63$Helper.<init>(\u001b[32mcmd63.sc\u001b[39m:\u001b[32m1\u001b[39m)\n  ammonite.$sess.cmd63$.<clinit>(\u001b[32mcmd63.sc\u001b[39m:\u001b[32m7\u001b[39m)"
     ]
    }
   ],
   "source": [
    "val solución = ???\n",
    "\n",
    "print(s\"Respuesta: ... $solución ...\")"
   ]
  },
  {
   "cell_type": "markdown",
   "metadata": {},
   "source": [
    "# EJERCICIO 3"
   ]
  },
  {
   "cell_type": "markdown",
   "metadata": {},
   "source": [
    "Un embalse tiene una capacidad de un millón de metros cúbicos. Ahora tiene 150000 ... "
   ]
  },
  {
   "cell_type": "code",
   "execution_count": 28,
   "metadata": {},
   "outputs": [
    {
     "data": {
      "text/plain": [
       "\u001b[36mcapacidad\u001b[39m: \u001b[32mInt\u001b[39m = \u001b[32m1000000\u001b[39m\n",
       "\u001b[36mactual\u001b[39m: \u001b[32mInt\u001b[39m = \u001b[32m150000\u001b[39m"
      ]
     },
     "execution_count": 28,
     "metadata": {},
     "output_type": "execute_result"
    }
   ],
   "source": [
    "val capacidad = 1000000\n",
    "val actual = 150000"
   ]
  },
  {
   "cell_type": "markdown",
   "metadata": {},
   "source": [
    "..., y gana, en dos veces, 75000 m3 y 50000 m3, respectivamente. ¿Cuántos metros cúbicos faltan para que el embalse esté a su máxima capacidad?"
   ]
  },
  {
   "cell_type": "code",
   "execution_count": 47,
   "metadata": {},
   "outputs": [
    {
     "name": "stdout",
     "output_type": "stream",
     "text": [
      "Respuesta: Faltan 725000 m3"
     ]
    },
    {
     "data": {
      "text/plain": [
       "\u001b[36msolución\u001b[39m: \u001b[32mInt\u001b[39m = \u001b[32m725000\u001b[39m"
      ]
     },
     "execution_count": 47,
     "metadata": {},
     "output_type": "execute_result"
    }
   ],
   "source": [
    "val solución = capacidad - (actual + 75000 + 50000)\n",
    "\n",
    "print(s\"Respuesta: Faltan $solución m3\")"
   ]
  },
  {
   "cell_type": "markdown",
   "metadata": {},
   "source": [
    "__Sin en lugar de ganar, perdiera cada día 30000 m3, ¿cuántos días tardaría en vaciarse?__"
   ]
  },
  {
   "cell_type": "code",
   "execution_count": 67,
   "metadata": {},
   "outputs": [
    {
     "ename": "",
     "evalue": "",
     "output_type": "error",
     "traceback": [
      "\u001b[31mscala.NotImplementedError: an implementation is missing\u001b[39m\n  scala.Predef$.$qmark$qmark$qmark(\u001b[32mPredef.scala\u001b[39m:\u001b[32m347\u001b[39m)\n  ammonite.$sess.cmd66$Helper.<init>(\u001b[32mcmd66.sc\u001b[39m:\u001b[32m1\u001b[39m)\n  ammonite.$sess.cmd66$.<clinit>(\u001b[32mcmd66.sc\u001b[39m:\u001b[32m7\u001b[39m)"
     ]
    }
   ],
   "source": [
    "val solución = ???\n",
    "\n",
    "print(s\"Respuesta: ... $solución ...\")"
   ]
  },
  {
   "cell_type": "markdown",
   "metadata": {},
   "source": [
    "# EJERCICIO 4"
   ]
  },
  {
   "cell_type": "markdown",
   "metadata": {},
   "source": [
    "Raquel se prepara para participar en una carrera. Cada mañana corre 24 km y cada tarde corre 15 km. "
   ]
  },
  {
   "cell_type": "code",
   "execution_count": 30,
   "metadata": {},
   "outputs": [
    {
     "data": {
      "text/plain": [
       "\u001b[36mmañana\u001b[39m: \u001b[32mInt\u001b[39m = \u001b[32m24\u001b[39m\n",
       "\u001b[36mtarde\u001b[39m: \u001b[32mInt\u001b[39m = \u001b[32m15\u001b[39m"
      ]
     },
     "execution_count": 30,
     "metadata": {},
     "output_type": "execute_result"
    }
   ],
   "source": [
    "val mañana = 24\n",
    "val tarde = 15"
   ]
  },
  {
   "cell_type": "markdown",
   "metadata": {},
   "source": [
    "¿Cuántos kilómetros corre Raquel en 12 días?"
   ]
  },
  {
   "cell_type": "code",
   "execution_count": 31,
   "metadata": {},
   "outputs": [
    {
     "data": {
      "text/plain": [
       "\u001b[36msolución\u001b[39m: \u001b[32mInt\u001b[39m = \u001b[32m468\u001b[39m"
      ]
     },
     "execution_count": 31,
     "metadata": {},
     "output_type": "execute_result"
    }
   ],
   "source": [
    "val solución = 12 * (mañana + tarde)"
   ]
  },
  {
   "cell_type": "code",
   "execution_count": 32,
   "metadata": {},
   "outputs": [
    {
     "name": "stdout",
     "output_type": "stream",
     "text": [
      "Respuesta: En 12 días corre 468 km."
     ]
    }
   ],
   "source": [
    "print(s\"Respuesta: En 12 días corre $solución km.\")"
   ]
  },
  {
   "cell_type": "markdown",
   "metadata": {},
   "source": [
    "__¿Cuántos días tardaría en dar la vuelta al mundo a ese ritmo? Búscate la vida para encontrar cuántos kilómetros hay que recorrer para dar la vuelta al mundo siguiendo la línea del Ecuador.__"
   ]
  },
  {
   "cell_type": "code",
   "execution_count": 68,
   "metadata": {},
   "outputs": [
    {
     "ename": "",
     "evalue": "",
     "output_type": "error",
     "traceback": [
      "\u001b[31mscala.NotImplementedError: an implementation is missing\u001b[39m\n  scala.Predef$.$qmark$qmark$qmark(\u001b[32mPredef.scala\u001b[39m:\u001b[32m347\u001b[39m)\n  ammonite.$sess.cmd67$Helper.<init>(\u001b[32mcmd67.sc\u001b[39m:\u001b[32m1\u001b[39m)\n  ammonite.$sess.cmd67$.<clinit>(\u001b[32mcmd67.sc\u001b[39m:\u001b[32m7\u001b[39m)"
     ]
    }
   ],
   "source": [
    "val solución = ???\n",
    "\n",
    "print(s\"Respuesta: ... $solución ...\")"
   ]
  },
  {
   "cell_type": "markdown",
   "metadata": {},
   "source": [
    "# EJERCICIO 5"
   ]
  },
  {
   "cell_type": "markdown",
   "metadata": {},
   "source": [
    "El precio de una revista son 6€, ... "
   ]
  },
  {
   "cell_type": "code",
   "execution_count": 42,
   "metadata": {},
   "outputs": [
    {
     "data": {
      "text/plain": [
       "\u001b[36mprecio_por_revista\u001b[39m: \u001b[32mInt\u001b[39m = \u001b[32m6\u001b[39m"
      ]
     },
     "execution_count": 42,
     "metadata": {},
     "output_type": "execute_result"
    }
   ],
   "source": [
    "val precio_por_revista = 6"
   ]
  },
  {
   "cell_type": "markdown",
   "metadata": {},
   "source": [
    "¿Cuánto cuestan 6 docenas de revistas?"
   ]
  },
  {
   "cell_type": "code",
   "execution_count": 48,
   "metadata": {},
   "outputs": [
    {
     "name": "stdout",
     "output_type": "stream",
     "text": [
      "Respuesta: Las 6 docenas cuestan 432 €"
     ]
    },
    {
     "data": {
      "text/plain": [
       "\u001b[36msolución\u001b[39m: \u001b[32mInt\u001b[39m = \u001b[32m432\u001b[39m"
      ]
     },
     "execution_count": 48,
     "metadata": {},
     "output_type": "execute_result"
    }
   ],
   "source": [
    "val solución = 6 * 12 * precio_por_revista\n",
    "\n",
    "print(s\"Respuesta: Las 6 docenas cuestan $solución €\")"
   ]
  },
  {
   "cell_type": "markdown",
   "metadata": {},
   "source": [
    "__En lugar de comprar las revistas sueltas, el Eduardito está considerando la opción de suscribirse a la revista. Sabiendo que la anualidad de la suscripción son 240€, ¿cuántos ejemplares al mes recibirá si el precio por revista le sale en esta modalidad a 5€?__"
   ]
  },
  {
   "cell_type": "code",
   "execution_count": 64,
   "metadata": {},
   "outputs": [
    {
     "ename": "",
     "evalue": "",
     "output_type": "error",
     "traceback": [
      "\u001b[31mscala.NotImplementedError: an implementation is missing\u001b[39m\n  scala.Predef$.$qmark$qmark$qmark(\u001b[32mPredef.scala\u001b[39m:\u001b[32m347\u001b[39m)\n  ammonite.$sess.cmd63$Helper.<init>(\u001b[32mcmd63.sc\u001b[39m:\u001b[32m1\u001b[39m)\n  ammonite.$sess.cmd63$.<clinit>(\u001b[32mcmd63.sc\u001b[39m:\u001b[32m7\u001b[39m)"
     ]
    }
   ],
   "source": [
    "val solución = ???\n",
    "\n",
    "print(s\"Respuesta: ... $solución ...\")"
   ]
  },
  {
   "cell_type": "markdown",
   "metadata": {},
   "source": [
    "# EJERCICIO 6 "
   ]
  },
  {
   "cell_type": "markdown",
   "metadata": {},
   "source": [
    "Ana ha vendido 75 pares de calcetines por 300€. "
   ]
  },
  {
   "cell_type": "code",
   "execution_count": 49,
   "metadata": {},
   "outputs": [
    {
     "data": {
      "text/plain": [
       "\u001b[36mcantidad\u001b[39m: \u001b[32mInt\u001b[39m = \u001b[32m75\u001b[39m\n",
       "\u001b[36mprecio\u001b[39m: \u001b[32mInt\u001b[39m = \u001b[32m300\u001b[39m"
      ]
     },
     "execution_count": 49,
     "metadata": {},
     "output_type": "execute_result"
    }
   ],
   "source": [
    "val cantidad = 75\n",
    "val precio = 300"
   ]
  },
  {
   "cell_type": "markdown",
   "metadata": {},
   "source": [
    "¿Cuánto cuesta cada par de calcetines?"
   ]
  },
  {
   "cell_type": "code",
   "execution_count": 51,
   "metadata": {},
   "outputs": [
    {
     "name": "stdout",
     "output_type": "stream",
     "text": [
      "Respuesta: Cada par cuesta 4 €."
     ]
    },
    {
     "data": {
      "text/plain": [
       "\u001b[36msolución\u001b[39m: \u001b[32mInt\u001b[39m = \u001b[32m4\u001b[39m"
      ]
     },
     "execution_count": 51,
     "metadata": {},
     "output_type": "execute_result"
    }
   ],
   "source": [
    "val solución = 300 / 75\n",
    "\n",
    "print(s\"Respuesta: Cada par cuesta $solución €.\")"
   ]
  },
  {
   "cell_type": "markdown",
   "metadata": {},
   "source": [
    "__Si la Sole se gastó en la tienda de Ana 200€ en calcetines, ¿cuántos calcetines sueltos (no pares) compró a Ana?__"
   ]
  },
  {
   "cell_type": "code",
   "execution_count": 64,
   "metadata": {},
   "outputs": [
    {
     "ename": "",
     "evalue": "",
     "output_type": "error",
     "traceback": [
      "\u001b[31mscala.NotImplementedError: an implementation is missing\u001b[39m\n  scala.Predef$.$qmark$qmark$qmark(\u001b[32mPredef.scala\u001b[39m:\u001b[32m347\u001b[39m)\n  ammonite.$sess.cmd63$Helper.<init>(\u001b[32mcmd63.sc\u001b[39m:\u001b[32m1\u001b[39m)\n  ammonite.$sess.cmd63$.<clinit>(\u001b[32mcmd63.sc\u001b[39m:\u001b[32m7\u001b[39m)"
     ]
    }
   ],
   "source": [
    "val solución = ???\n",
    "\n",
    "print(s\"Respuesta: ... $solución ...\")"
   ]
  },
  {
   "cell_type": "markdown",
   "metadata": {},
   "source": [
    "# EJERCICIO 7"
   ]
  },
  {
   "cell_type": "markdown",
   "metadata": {},
   "source": [
    "Ariadna y Ana trabajan de carteras. En una hora, Ariadna reparte 90 cartas, y Ana, 76. "
   ]
  },
  {
   "cell_type": "code",
   "execution_count": 52,
   "metadata": {},
   "outputs": [
    {
     "data": {
      "text/plain": [
       "\u001b[36mariadna\u001b[39m: \u001b[32mInt\u001b[39m = \u001b[32m90\u001b[39m\n",
       "\u001b[36mana\u001b[39m: \u001b[32mInt\u001b[39m = \u001b[32m76\u001b[39m"
      ]
     },
     "execution_count": 52,
     "metadata": {},
     "output_type": "execute_result"
    }
   ],
   "source": [
    "val ariadna = 90\n",
    "val ana = 76"
   ]
  },
  {
   "cell_type": "markdown",
   "metadata": {},
   "source": [
    "¿Cuántas horas tardarán en repartir 830 cartas si trabajan juntas?"
   ]
  },
  {
   "cell_type": "code",
   "execution_count": 54,
   "metadata": {},
   "outputs": [
    {
     "name": "stdout",
     "output_type": "stream",
     "text": [
      "Respuesta: Tardarán 5 horas."
     ]
    },
    {
     "data": {
      "text/plain": [
       "\u001b[36msolución\u001b[39m: \u001b[32mInt\u001b[39m = \u001b[32m5\u001b[39m"
      ]
     },
     "execution_count": 54,
     "metadata": {},
     "output_type": "execute_result"
    }
   ],
   "source": [
    "val solución = 830 / (90 + 76)\n",
    "\n",
    "print(s\"Respuesta: Tardarán $solución horas.\")"
   ]
  },
  {
   "cell_type": "markdown",
   "metadata": {},
   "source": [
    "Suponiendo que la jornada laboral sea de ocho horas al día, ... "
   ]
  },
  {
   "cell_type": "code",
   "execution_count": null,
   "metadata": {},
   "outputs": [],
   "source": [
    "val jornada = 8"
   ]
  },
  {
   "cell_type": "markdown",
   "metadata": {},
   "source": [
    "¿Cuántos días tardarán en repartir 3984 cartas?"
   ]
  },
  {
   "cell_type": "code",
   "execution_count": 61,
   "metadata": {},
   "outputs": [
    {
     "name": "stdout",
     "output_type": "stream",
     "text": [
      "Respuesta: Tardarán 3 días."
     ]
    },
    {
     "data": {
      "text/plain": [
       "\u001b[36msolución\u001b[39m: \u001b[32mInt\u001b[39m = \u001b[32m3\u001b[39m"
      ]
     },
     "execution_count": 61,
     "metadata": {},
     "output_type": "execute_result"
    }
   ],
   "source": [
    "val solución = 3984 / (90 + 76) / 8\n",
    "\n",
    "print(s\"Respuesta: Tardarán $solución días.\")"
   ]
  },
  {
   "cell_type": "markdown",
   "metadata": {},
   "source": [
    "# EJERCICIO 8"
   ]
  },
  {
   "cell_type": "markdown",
   "metadata": {},
   "source": [
    "Si pagamos a 4€ la docena de espárragos ... "
   ]
  },
  {
   "cell_type": "code",
   "execution_count": 62,
   "metadata": {},
   "outputs": [
    {
     "data": {
      "text/plain": [
       "\u001b[36mprecio\u001b[39m: \u001b[32mInt\u001b[39m = \u001b[32m4\u001b[39m"
      ]
     },
     "execution_count": 62,
     "metadata": {},
     "output_type": "execute_result"
    }
   ],
   "source": [
    "val precio = 4"
   ]
  },
  {
   "cell_type": "markdown",
   "metadata": {},
   "source": [
    "¿cuántas docenas de espárragos podemos comprar con 64€?"
   ]
  },
  {
   "cell_type": "code",
   "execution_count": 63,
   "metadata": {},
   "outputs": [
    {
     "name": "stdout",
     "output_type": "stream",
     "text": [
      "Respuesta: Podemos comprar 16 docenas"
     ]
    },
    {
     "data": {
      "text/plain": [
       "\u001b[36msolución\u001b[39m: \u001b[32mInt\u001b[39m = \u001b[32m16\u001b[39m"
      ]
     },
     "execution_count": 63,
     "metadata": {},
     "output_type": "execute_result"
    }
   ],
   "source": [
    "val solución = 64 / precio\n",
    "\n",
    "print(s\"Respuesta: Podemos comprar $solución docenas\")"
   ]
  }
 ],
 "metadata": {
  "kernelspec": {
   "display_name": "Scala",
   "language": "scala",
   "name": "scala"
  },
  "language_info": {
   "codemirror_mode": "text/x-scala",
   "file_extension": ".scala",
   "mimetype": "text/x-scala",
   "name": "scala",
   "nbconvert_exporter": "script",
   "version": "2.13.0"
  }
 },
 "nbformat": 4,
 "nbformat_minor": 2
}
