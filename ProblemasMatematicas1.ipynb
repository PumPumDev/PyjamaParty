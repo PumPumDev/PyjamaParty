{
 "cells": [
  {
   "cell_type": "code",
   "execution_count": 1,
   "metadata": {},
   "outputs": [
    {
     "name": "stdout",
     "output_type": "stream",
     "text": [
      "Compiling /Users/jserrano/Documents/PyjamaParty/soluciones.sc"
     ]
    },
    {
     "data": {
      "text/plain": [
       "\u001b[32mimport \u001b[39m\u001b[36m$file.$         , soluciones._\u001b[39m"
      ]
     },
     "execution_count": 1,
     "metadata": {},
     "output_type": "execute_result"
    }
   ],
   "source": [
    "import $file.soluciones, soluciones._"
   ]
  },
  {
   "cell_type": "markdown",
   "metadata": {},
   "source": [
    "# EJERCICIO 1"
   ]
  },
  {
   "cell_type": "markdown",
   "metadata": {},
   "source": [
    "En un cine hay 392 butacas. Si hay 14 butacas por fila ... "
   ]
  },
  {
   "cell_type": "code",
   "execution_count": 2,
   "metadata": {},
   "outputs": [
    {
     "data": {
      "text/plain": [
       "\u001b[36mbutacas\u001b[39m: \u001b[32mInt\u001b[39m = \u001b[32m392\u001b[39m\n",
       "\u001b[36mbutacas_por_fila\u001b[39m: \u001b[32mInt\u001b[39m = \u001b[32m14\u001b[39m"
      ]
     },
     "execution_count": 2,
     "metadata": {},
     "output_type": "execute_result"
    }
   ],
   "source": [
    "val butacas = 392\n",
    "val butacas_por_fila = 14"
   ]
  },
  {
   "cell_type": "markdown",
   "metadata": {},
   "source": [
    "... ¿cuántas filas hay en el cine?"
   ]
  },
  {
   "cell_type": "code",
   "execution_count": 3,
   "metadata": {},
   "outputs": [
    {
     "name": "stdout",
     "output_type": "stream",
     "text": [
      "Respuesta: Tiene 28 filas"
     ]
    },
    {
     "data": {
      "text/plain": [
       "\u001b[36msolución\u001b[39m: \u001b[32mInt\u001b[39m = \u001b[32m28\u001b[39m"
      ]
     },
     "execution_count": 3,
     "metadata": {},
     "output_type": "execute_result"
    }
   ],
   "source": [
    "val solución = butacas / butacas_por_fila\n",
    "\n",
    "print(s\"Respuesta: Tiene $solución filas\")"
   ]
  },
  {
   "cell_type": "code",
   "execution_count": 4,
   "metadata": {},
   "outputs": [
    {
     "name": "stdout",
     "output_type": "stream",
     "text": [
      "Enhorabuena, moñas, es correcto.\n"
     ]
    }
   ],
   "source": [
    "esCorrecto(1, solución)"
   ]
  },
  {
   "cell_type": "markdown",
   "metadata": {},
   "source": [
    "__Si hubiera 28 filas en el cine, ¿cuántas columnas habría?__"
   ]
  },
  {
   "cell_type": "code",
   "execution_count": null,
   "metadata": {},
   "outputs": [],
   "source": [
    "val solución = ???\n",
    "\n",
    "print(s\"Respuesta: ... $solución ...\")"
   ]
  },
  {
   "cell_type": "markdown",
   "metadata": {},
   "source": [
    "# EJERCICIO 2 \n",
    "\n",
    "\n",
    "Berta tiene 32 libros."
   ]
  },
  {
   "cell_type": "code",
   "execution_count": null,
   "metadata": {},
   "outputs": [],
   "source": [
    "val libros = 32"
   ]
  },
  {
   "cell_type": "markdown",
   "metadata": {},
   "source": [
    "Si le dan una cantidad 5 veces mayor. ¿Cuántos libros tendrá ahora Berta? \n"
   ]
  },
  {
   "cell_type": "code",
   "execution_count": null,
   "metadata": {},
   "outputs": [],
   "source": [
    "val solución = libros + 5 * libros\n",
    "\n",
    "print(s\"Respuesta: Tendrá $solución libros\")"
   ]
  },
  {
   "cell_type": "markdown",
   "metadata": {},
   "source": [
    "__Si a la cantidad original le quitaran una cuarta parte, ¿cuántos libros le quedarían?__"
   ]
  },
  {
   "cell_type": "code",
   "execution_count": null,
   "metadata": {},
   "outputs": [],
   "source": [
    "val solución = ???\n",
    "\n",
    "print(s\"Respuesta: ... $solución ...\")"
   ]
  },
  {
   "cell_type": "markdown",
   "metadata": {},
   "source": [
    "# EJERCICIO 3"
   ]
  },
  {
   "cell_type": "markdown",
   "metadata": {},
   "source": [
    "Un embalse tiene una capacidad de un millón de metros cúbicos. Ahora tiene 150000 ... "
   ]
  },
  {
   "cell_type": "code",
   "execution_count": null,
   "metadata": {},
   "outputs": [],
   "source": [
    "val capacidad = 1000000\n",
    "val actual = 150000"
   ]
  },
  {
   "cell_type": "markdown",
   "metadata": {},
   "source": [
    "..., y gana, en dos veces, 75000 m3 y 50000 m3, respectivamente. ¿Cuántos metros cúbicos faltan para que el embalse esté a su máxima capacidad?"
   ]
  },
  {
   "cell_type": "code",
   "execution_count": null,
   "metadata": {},
   "outputs": [],
   "source": [
    "val solución = capacidad - (actual + 75000 + 50000)\n",
    "\n",
    "print(s\"Respuesta: Faltan $solución m3\")"
   ]
  },
  {
   "cell_type": "markdown",
   "metadata": {},
   "source": [
    "__Sin en lugar de ganar, perdiera cada día 30000 m3, ¿cuántos días tardaría en vaciarse?__"
   ]
  },
  {
   "cell_type": "code",
   "execution_count": null,
   "metadata": {},
   "outputs": [],
   "source": [
    "val solución = ???\n",
    "\n",
    "print(s\"Respuesta: ... $solución ...\")"
   ]
  },
  {
   "cell_type": "markdown",
   "metadata": {},
   "source": [
    "# EJERCICIO 4"
   ]
  },
  {
   "cell_type": "markdown",
   "metadata": {},
   "source": [
    "Raquel se prepara para participar en una carrera. Cada mañana corre 24 km y cada tarde corre 15 km. "
   ]
  },
  {
   "cell_type": "code",
   "execution_count": null,
   "metadata": {},
   "outputs": [],
   "source": [
    "val mañana = 24\n",
    "val tarde = 15"
   ]
  },
  {
   "cell_type": "markdown",
   "metadata": {},
   "source": [
    "¿Cuántos kilómetros corre Raquel en 12 días?"
   ]
  },
  {
   "cell_type": "code",
   "execution_count": null,
   "metadata": {},
   "outputs": [],
   "source": [
    "val solución = 12 * (mañana + tarde)"
   ]
  },
  {
   "cell_type": "code",
   "execution_count": null,
   "metadata": {},
   "outputs": [],
   "source": [
    "print(s\"Respuesta: En 12 días corre $solución km.\")"
   ]
  },
  {
   "cell_type": "markdown",
   "metadata": {},
   "source": [
    "__¿Cuántos días tardaría en dar la vuelta al mundo a ese ritmo? Búscate la vida para encontrar cuántos kilómetros hay que recorrer para dar la vuelta al mundo siguiendo la línea del Ecuador.__"
   ]
  },
  {
   "cell_type": "code",
   "execution_count": null,
   "metadata": {},
   "outputs": [],
   "source": [
    "val solución = ???\n",
    "\n",
    "print(s\"Respuesta: ... $solución ...\")"
   ]
  },
  {
   "cell_type": "markdown",
   "metadata": {},
   "source": [
    "# EJERCICIO 5"
   ]
  },
  {
   "cell_type": "markdown",
   "metadata": {},
   "source": [
    "El precio de una revista son 6€, ... "
   ]
  },
  {
   "cell_type": "code",
   "execution_count": null,
   "metadata": {},
   "outputs": [],
   "source": [
    "val precio_por_revista = 6"
   ]
  },
  {
   "cell_type": "markdown",
   "metadata": {},
   "source": [
    "¿Cuánto cuestan 6 docenas de revistas?"
   ]
  },
  {
   "cell_type": "code",
   "execution_count": null,
   "metadata": {},
   "outputs": [],
   "source": [
    "val solución = 6 * 12 * precio_por_revista\n",
    "\n",
    "print(s\"Respuesta: Las 6 docenas cuestan $solución €\")"
   ]
  },
  {
   "cell_type": "markdown",
   "metadata": {},
   "source": [
    "__En lugar de comprar las revistas sueltas, el Eduardito está considerando la opción de suscribirse a la revista. Sabiendo que la anualidad de la suscripción son 240€, ¿cuántos ejemplares al mes recibirá si el precio por revista le sale en esta modalidad a 5€?__"
   ]
  },
  {
   "cell_type": "code",
   "execution_count": null,
   "metadata": {},
   "outputs": [],
   "source": [
    "val solución = ???\n",
    "\n",
    "print(s\"Respuesta: ... $solución ...\")"
   ]
  },
  {
   "cell_type": "markdown",
   "metadata": {},
   "source": [
    "# EJERCICIO 6 "
   ]
  },
  {
   "cell_type": "markdown",
   "metadata": {},
   "source": [
    "Ana ha vendido 75 pares de calcetines por 300€. "
   ]
  },
  {
   "cell_type": "code",
   "execution_count": null,
   "metadata": {},
   "outputs": [],
   "source": [
    "val cantidad = 75\n",
    "val precio = 300"
   ]
  },
  {
   "cell_type": "markdown",
   "metadata": {},
   "source": [
    "¿Cuánto cuesta cada par de calcetines?"
   ]
  },
  {
   "cell_type": "code",
   "execution_count": null,
   "metadata": {},
   "outputs": [],
   "source": [
    "val solución = 300 / 75\n",
    "\n",
    "print(s\"Respuesta: Cada par cuesta $solución €.\")"
   ]
  },
  {
   "cell_type": "markdown",
   "metadata": {},
   "source": [
    "__Si la Sole se gastó en la tienda de Ana 200€ en calcetines, ¿cuántos calcetines sueltos (no pares) compró a Ana?__"
   ]
  },
  {
   "cell_type": "code",
   "execution_count": null,
   "metadata": {},
   "outputs": [],
   "source": [
    "val solución = ???\n",
    "\n",
    "print(s\"Respuesta: ... $solución ...\")"
   ]
  },
  {
   "cell_type": "markdown",
   "metadata": {},
   "source": [
    "# EJERCICIO 7"
   ]
  },
  {
   "cell_type": "markdown",
   "metadata": {},
   "source": [
    "Ariadna y Ana trabajan de carteras. En una hora, Ariadna reparte 90 cartas, y Ana, 76. "
   ]
  },
  {
   "cell_type": "code",
   "execution_count": null,
   "metadata": {},
   "outputs": [],
   "source": [
    "val ariadna = 90\n",
    "val ana = 76"
   ]
  },
  {
   "cell_type": "markdown",
   "metadata": {},
   "source": [
    "¿Cuántas horas tardarán en repartir 830 cartas si trabajan juntas?"
   ]
  },
  {
   "cell_type": "code",
   "execution_count": null,
   "metadata": {},
   "outputs": [],
   "source": [
    "val solución = 830 / (90 + 76)\n",
    "\n",
    "print(s\"Respuesta: Tardarán $solución horas.\")"
   ]
  },
  {
   "cell_type": "markdown",
   "metadata": {},
   "source": [
    "Suponiendo que la jornada laboral sea de ocho horas al día, ... "
   ]
  },
  {
   "cell_type": "code",
   "execution_count": null,
   "metadata": {},
   "outputs": [],
   "source": [
    "val jornada = 8"
   ]
  },
  {
   "cell_type": "markdown",
   "metadata": {},
   "source": [
    "¿Cuántos días tardarán en repartir 3984 cartas?"
   ]
  },
  {
   "cell_type": "code",
   "execution_count": null,
   "metadata": {},
   "outputs": [],
   "source": [
    "val solución = 3984 / (90 + 76) / 8\n",
    "\n",
    "print(s\"Respuesta: Tardarán $solución días.\")"
   ]
  },
  {
   "cell_type": "markdown",
   "metadata": {},
   "source": [
    "# EJERCICIO 8"
   ]
  },
  {
   "cell_type": "markdown",
   "metadata": {},
   "source": [
    "Si pagamos a 4€ la docena de espárragos ... "
   ]
  },
  {
   "cell_type": "code",
   "execution_count": null,
   "metadata": {},
   "outputs": [],
   "source": [
    "val precio = 4"
   ]
  },
  {
   "cell_type": "markdown",
   "metadata": {},
   "source": [
    "¿cuántas docenas de espárragos podemos comprar con 64€?"
   ]
  },
  {
   "cell_type": "code",
   "execution_count": null,
   "metadata": {},
   "outputs": [],
   "source": [
    "val solución = 64 / precio\n",
    "\n",
    "print(s\"Respuesta: Podemos comprar $solución docenas\")"
   ]
  }
 ],
 "metadata": {
  "kernelspec": {
   "display_name": "Scala",
   "language": "scala",
   "name": "scala"
  },
  "language_info": {
   "codemirror_mode": "text/x-scala",
   "file_extension": ".scala",
   "mimetype": "text/x-scala",
   "name": "scala",
   "nbconvert_exporter": "script",
   "version": "2.13.0"
  }
 },
 "nbformat": 4,
 "nbformat_minor": 2
}
